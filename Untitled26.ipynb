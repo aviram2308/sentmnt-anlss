{
 "cells": [
  {
   "cell_type": "markdown",
   "metadata": {},
   "source": [
    "# Sentiment Analysis of Amazon users' review for Gillian Flynn, Paula Hawkin's novels"
   ]
  },
  {
   "cell_type": "code",
   "execution_count": 59,
   "metadata": {},
   "outputs": [],
   "source": [
    "#importing the text mining package tm\n",
    "library(tm)\n"
   ]
  },
  {
   "cell_type": "code",
   "execution_count": 2,
   "metadata": {},
   "outputs": [],
   "source": [
    "url='https://cdn.rawgit.com/aviram2308/sentmnt-anlss/6e63e869/gl%20on%20trn2.txt'"
   ]
  },
  {
   "cell_type": "code",
   "execution_count": 3,
   "metadata": {},
   "outputs": [],
   "source": [
    "#reading the document 1 using url\n",
    "d1=readLines(url)\n"
   ]
  },
  {
   "cell_type": "code",
   "execution_count": 4,
   "metadata": {},
   "outputs": [
    {
     "name": "stdout",
     "output_type": "stream",
     "text": [
      " chr [1:2663] \"Sort by:\" \"\" \"Top\" \"Filter by: Filter by: \" \"All reviewers\" ...\n"
     ]
    },
    {
     "data": {
      "text/html": [
       "'character'"
      ],
      "text/latex": [
       "'character'"
      ],
      "text/markdown": [
       "'character'"
      ],
      "text/plain": [
       "[1] \"character\""
      ]
     },
     "metadata": {},
     "output_type": "display_data"
    }
   ],
   "source": [
    "#outputting d1 will give the entire document therefore output only structure and class of d1\n",
    "#d1\n",
    "str(d1)\n",
    "class(d1)\n"
   ]
  },
  {
   "cell_type": "code",
   "execution_count": 7,
   "metadata": {},
   "outputs": [],
   "source": [
    "#making it a 1 element vector\n",
    "d1.2=paste(d1, collapse=\" \")\n",
    "\n"
   ]
  },
  {
   "cell_type": "code",
   "execution_count": 8,
   "metadata": {},
   "outputs": [
    {
     "name": "stdout",
     "output_type": "stream",
     "text": [
      " chr \"Sort by:  Top Filter by: Filter by:  All reviewers Filter by:  All stars Filter by:  All formats Keyword Keywor\"| __truncated__\n"
     ]
    },
    {
     "data": {
      "text/html": [
       "'character'"
      ],
      "text/latex": [
       "'character'"
      ],
      "text/markdown": [
       "'character'"
      ],
      "text/plain": [
       "[1] \"character\""
      ]
     },
     "metadata": {},
     "output_type": "display_data"
    }
   ],
   "source": [
    "str(d1.2)\n",
    "class(d1.2)"
   ]
  },
  {
   "cell_type": "code",
   "execution_count": 9,
   "metadata": {},
   "outputs": [
    {
     "name": "stdout",
     "output_type": "stream",
     "text": [
      " chr \"Sort by   Top Filter by  Filter by   All reviewers Filter by   All stars Filter by   All formats Keyword Keywor\"| __truncated__\n"
     ]
    },
    {
     "data": {
      "text/html": [
       "'character'"
      ],
      "text/latex": [
       "'character'"
      ],
      "text/markdown": [
       "'character'"
      ],
      "text/plain": [
       "[1] \"character\""
      ]
     },
     "metadata": {},
     "output_type": "display_data"
    }
   ],
   "source": [
    "#removing punctuation using regex \\\\W\n",
    "d1.3=gsub(pattern=\"\\\\W\", replace=\" \" , d1.2)\n",
    "#d1.3\n",
    "str(d1.3)\n",
    "class(d1.3)\n"
   ]
  },
  {
   "cell_type": "code",
   "execution_count": 10,
   "metadata": {},
   "outputs": [
    {
     "name": "stdout",
     "output_type": "stream",
     "text": [
      " chr \"Sort by   Top Filter by  Filter by   All reviewers Filter by   All stars Filter by   All formats Keyword Keywor\"| __truncated__\n"
     ]
    },
    {
     "data": {
      "text/html": [
       "'character'"
      ],
      "text/latex": [
       "'character'"
      ],
      "text/markdown": [
       "'character'"
      ],
      "text/plain": [
       "[1] \"character\""
      ]
     },
     "metadata": {},
     "output_type": "display_data"
    }
   ],
   "source": [
    "#removing numbers using regex \\\\d\n",
    "d1.4=gsub(pattern=\"\\\\d\", replace=\" \" , d1.3)\n",
    "#d1.4\n",
    "str(d1.4)\n",
    "class(d1.4)\n"
   ]
  },
  {
   "cell_type": "code",
   "execution_count": 11,
   "metadata": {},
   "outputs": [
    {
     "name": "stdout",
     "output_type": "stream",
     "text": [
      " chr \"sort by   top filter by  filter by   all reviewers filter by   all stars filter by   all formats keyword keywor\"| __truncated__\n"
     ]
    },
    {
     "data": {
      "text/html": [
       "'character'"
      ],
      "text/latex": [
       "'character'"
      ],
      "text/markdown": [
       "'character'"
      ],
      "text/plain": [
       "[1] \"character\""
      ]
     },
     "metadata": {},
     "output_type": "display_data"
    }
   ],
   "source": [
    "#making all letters in small case so that we don't have to remove stopwords case wise\n",
    "d1.5=tolower(d1.4)\n",
    "#d1.5\n",
    "str(d1.5)\n",
    "class(d1.5)\n"
   ]
  },
  {
   "cell_type": "code",
   "execution_count": 12,
   "metadata": {},
   "outputs": [
    {
     "data": {
      "text/html": [
       "<ol class=list-inline>\n",
       "\t<li>'i'</li>\n",
       "\t<li>'me'</li>\n",
       "\t<li>'my'</li>\n",
       "\t<li>'myself'</li>\n",
       "\t<li>'we'</li>\n",
       "\t<li>'our'</li>\n",
       "\t<li>'ours'</li>\n",
       "\t<li>'ourselves'</li>\n",
       "\t<li>'you'</li>\n",
       "\t<li>'your'</li>\n",
       "\t<li>'yours'</li>\n",
       "\t<li>'yourself'</li>\n",
       "\t<li>'yourselves'</li>\n",
       "\t<li>'he'</li>\n",
       "\t<li>'him'</li>\n",
       "\t<li>'his'</li>\n",
       "\t<li>'himself'</li>\n",
       "\t<li>'she'</li>\n",
       "\t<li>'her'</li>\n",
       "\t<li>'hers'</li>\n",
       "\t<li>'herself'</li>\n",
       "\t<li>'it'</li>\n",
       "\t<li>'its'</li>\n",
       "\t<li>'itself'</li>\n",
       "\t<li>'they'</li>\n",
       "\t<li>'them'</li>\n",
       "\t<li>'their'</li>\n",
       "\t<li>'theirs'</li>\n",
       "\t<li>'themselves'</li>\n",
       "\t<li>'what'</li>\n",
       "\t<li>'which'</li>\n",
       "\t<li>'who'</li>\n",
       "\t<li>'whom'</li>\n",
       "\t<li>'this'</li>\n",
       "\t<li>'that'</li>\n",
       "\t<li>'these'</li>\n",
       "\t<li>'those'</li>\n",
       "\t<li>'am'</li>\n",
       "\t<li>'is'</li>\n",
       "\t<li>'are'</li>\n",
       "\t<li>'was'</li>\n",
       "\t<li>'were'</li>\n",
       "\t<li>'be'</li>\n",
       "\t<li>'been'</li>\n",
       "\t<li>'being'</li>\n",
       "\t<li>'have'</li>\n",
       "\t<li>'has'</li>\n",
       "\t<li>'had'</li>\n",
       "\t<li>'having'</li>\n",
       "\t<li>'do'</li>\n",
       "\t<li>'does'</li>\n",
       "\t<li>'did'</li>\n",
       "\t<li>'doing'</li>\n",
       "\t<li>'would'</li>\n",
       "\t<li>'should'</li>\n",
       "\t<li>'could'</li>\n",
       "\t<li>'ought'</li>\n",
       "\t<li>'i\\'m'</li>\n",
       "\t<li>'you\\'re'</li>\n",
       "\t<li>'he\\'s'</li>\n",
       "\t<li>'she\\'s'</li>\n",
       "\t<li>'it\\'s'</li>\n",
       "\t<li>'we\\'re'</li>\n",
       "\t<li>'they\\'re'</li>\n",
       "\t<li>'i\\'ve'</li>\n",
       "\t<li>'you\\'ve'</li>\n",
       "\t<li>'we\\'ve'</li>\n",
       "\t<li>'they\\'ve'</li>\n",
       "\t<li>'i\\'d'</li>\n",
       "\t<li>'you\\'d'</li>\n",
       "\t<li>'he\\'d'</li>\n",
       "\t<li>'she\\'d'</li>\n",
       "\t<li>'we\\'d'</li>\n",
       "\t<li>'they\\'d'</li>\n",
       "\t<li>'i\\'ll'</li>\n",
       "\t<li>'you\\'ll'</li>\n",
       "\t<li>'he\\'ll'</li>\n",
       "\t<li>'she\\'ll'</li>\n",
       "\t<li>'we\\'ll'</li>\n",
       "\t<li>'they\\'ll'</li>\n",
       "\t<li>'isn\\'t'</li>\n",
       "\t<li>'aren\\'t'</li>\n",
       "\t<li>'wasn\\'t'</li>\n",
       "\t<li>'weren\\'t'</li>\n",
       "\t<li>'hasn\\'t'</li>\n",
       "\t<li>'haven\\'t'</li>\n",
       "\t<li>'hadn\\'t'</li>\n",
       "\t<li>'doesn\\'t'</li>\n",
       "\t<li>'don\\'t'</li>\n",
       "\t<li>'didn\\'t'</li>\n",
       "\t<li>'won\\'t'</li>\n",
       "\t<li>'wouldn\\'t'</li>\n",
       "\t<li>'shan\\'t'</li>\n",
       "\t<li>'shouldn\\'t'</li>\n",
       "\t<li>'can\\'t'</li>\n",
       "\t<li>'cannot'</li>\n",
       "\t<li>'couldn\\'t'</li>\n",
       "\t<li>'mustn\\'t'</li>\n",
       "\t<li>'let\\'s'</li>\n",
       "\t<li>'that\\'s'</li>\n",
       "\t<li>'who\\'s'</li>\n",
       "\t<li>'what\\'s'</li>\n",
       "\t<li>'here\\'s'</li>\n",
       "\t<li>'there\\'s'</li>\n",
       "\t<li>'when\\'s'</li>\n",
       "\t<li>'where\\'s'</li>\n",
       "\t<li>'why\\'s'</li>\n",
       "\t<li>'how\\'s'</li>\n",
       "\t<li>'a'</li>\n",
       "\t<li>'an'</li>\n",
       "\t<li>'the'</li>\n",
       "\t<li>'and'</li>\n",
       "\t<li>'but'</li>\n",
       "\t<li>'if'</li>\n",
       "\t<li>'or'</li>\n",
       "\t<li>'because'</li>\n",
       "\t<li>'as'</li>\n",
       "\t<li>'until'</li>\n",
       "\t<li>'while'</li>\n",
       "\t<li>'of'</li>\n",
       "\t<li>'at'</li>\n",
       "\t<li>'by'</li>\n",
       "\t<li>'for'</li>\n",
       "\t<li>'with'</li>\n",
       "\t<li>'about'</li>\n",
       "\t<li>'against'</li>\n",
       "\t<li>'between'</li>\n",
       "\t<li>'into'</li>\n",
       "\t<li>'through'</li>\n",
       "\t<li>'during'</li>\n",
       "\t<li>'before'</li>\n",
       "\t<li>'after'</li>\n",
       "\t<li>'above'</li>\n",
       "\t<li>'below'</li>\n",
       "\t<li>'to'</li>\n",
       "\t<li>'from'</li>\n",
       "\t<li>'up'</li>\n",
       "\t<li>'down'</li>\n",
       "\t<li>'in'</li>\n",
       "\t<li>'out'</li>\n",
       "\t<li>'on'</li>\n",
       "\t<li>'off'</li>\n",
       "\t<li>'over'</li>\n",
       "\t<li>'under'</li>\n",
       "\t<li>'again'</li>\n",
       "\t<li>'further'</li>\n",
       "\t<li>'then'</li>\n",
       "\t<li>'once'</li>\n",
       "\t<li>'here'</li>\n",
       "\t<li>'there'</li>\n",
       "\t<li>'when'</li>\n",
       "\t<li>'where'</li>\n",
       "\t<li>'why'</li>\n",
       "\t<li>'how'</li>\n",
       "\t<li>'all'</li>\n",
       "\t<li>'any'</li>\n",
       "\t<li>'both'</li>\n",
       "\t<li>'each'</li>\n",
       "\t<li>'few'</li>\n",
       "\t<li>'more'</li>\n",
       "\t<li>'most'</li>\n",
       "\t<li>'other'</li>\n",
       "\t<li>'some'</li>\n",
       "\t<li>'such'</li>\n",
       "\t<li>'no'</li>\n",
       "\t<li>'nor'</li>\n",
       "\t<li>'not'</li>\n",
       "\t<li>'only'</li>\n",
       "\t<li>'own'</li>\n",
       "\t<li>'same'</li>\n",
       "\t<li>'so'</li>\n",
       "\t<li>'than'</li>\n",
       "\t<li>'too'</li>\n",
       "\t<li>'very'</li>\n",
       "</ol>\n"
      ],
      "text/latex": [
       "\\begin{enumerate*}\n",
       "\\item 'i'\n",
       "\\item 'me'\n",
       "\\item 'my'\n",
       "\\item 'myself'\n",
       "\\item 'we'\n",
       "\\item 'our'\n",
       "\\item 'ours'\n",
       "\\item 'ourselves'\n",
       "\\item 'you'\n",
       "\\item 'your'\n",
       "\\item 'yours'\n",
       "\\item 'yourself'\n",
       "\\item 'yourselves'\n",
       "\\item 'he'\n",
       "\\item 'him'\n",
       "\\item 'his'\n",
       "\\item 'himself'\n",
       "\\item 'she'\n",
       "\\item 'her'\n",
       "\\item 'hers'\n",
       "\\item 'herself'\n",
       "\\item 'it'\n",
       "\\item 'its'\n",
       "\\item 'itself'\n",
       "\\item 'they'\n",
       "\\item 'them'\n",
       "\\item 'their'\n",
       "\\item 'theirs'\n",
       "\\item 'themselves'\n",
       "\\item 'what'\n",
       "\\item 'which'\n",
       "\\item 'who'\n",
       "\\item 'whom'\n",
       "\\item 'this'\n",
       "\\item 'that'\n",
       "\\item 'these'\n",
       "\\item 'those'\n",
       "\\item 'am'\n",
       "\\item 'is'\n",
       "\\item 'are'\n",
       "\\item 'was'\n",
       "\\item 'were'\n",
       "\\item 'be'\n",
       "\\item 'been'\n",
       "\\item 'being'\n",
       "\\item 'have'\n",
       "\\item 'has'\n",
       "\\item 'had'\n",
       "\\item 'having'\n",
       "\\item 'do'\n",
       "\\item 'does'\n",
       "\\item 'did'\n",
       "\\item 'doing'\n",
       "\\item 'would'\n",
       "\\item 'should'\n",
       "\\item 'could'\n",
       "\\item 'ought'\n",
       "\\item 'i\\textbackslash{}'m'\n",
       "\\item 'you\\textbackslash{}'re'\n",
       "\\item 'he\\textbackslash{}'s'\n",
       "\\item 'she\\textbackslash{}'s'\n",
       "\\item 'it\\textbackslash{}'s'\n",
       "\\item 'we\\textbackslash{}'re'\n",
       "\\item 'they\\textbackslash{}'re'\n",
       "\\item 'i\\textbackslash{}'ve'\n",
       "\\item 'you\\textbackslash{}'ve'\n",
       "\\item 'we\\textbackslash{}'ve'\n",
       "\\item 'they\\textbackslash{}'ve'\n",
       "\\item 'i\\textbackslash{}'d'\n",
       "\\item 'you\\textbackslash{}'d'\n",
       "\\item 'he\\textbackslash{}'d'\n",
       "\\item 'she\\textbackslash{}'d'\n",
       "\\item 'we\\textbackslash{}'d'\n",
       "\\item 'they\\textbackslash{}'d'\n",
       "\\item 'i\\textbackslash{}'ll'\n",
       "\\item 'you\\textbackslash{}'ll'\n",
       "\\item 'he\\textbackslash{}'ll'\n",
       "\\item 'she\\textbackslash{}'ll'\n",
       "\\item 'we\\textbackslash{}'ll'\n",
       "\\item 'they\\textbackslash{}'ll'\n",
       "\\item 'isn\\textbackslash{}'t'\n",
       "\\item 'aren\\textbackslash{}'t'\n",
       "\\item 'wasn\\textbackslash{}'t'\n",
       "\\item 'weren\\textbackslash{}'t'\n",
       "\\item 'hasn\\textbackslash{}'t'\n",
       "\\item 'haven\\textbackslash{}'t'\n",
       "\\item 'hadn\\textbackslash{}'t'\n",
       "\\item 'doesn\\textbackslash{}'t'\n",
       "\\item 'don\\textbackslash{}'t'\n",
       "\\item 'didn\\textbackslash{}'t'\n",
       "\\item 'won\\textbackslash{}'t'\n",
       "\\item 'wouldn\\textbackslash{}'t'\n",
       "\\item 'shan\\textbackslash{}'t'\n",
       "\\item 'shouldn\\textbackslash{}'t'\n",
       "\\item 'can\\textbackslash{}'t'\n",
       "\\item 'cannot'\n",
       "\\item 'couldn\\textbackslash{}'t'\n",
       "\\item 'mustn\\textbackslash{}'t'\n",
       "\\item 'let\\textbackslash{}'s'\n",
       "\\item 'that\\textbackslash{}'s'\n",
       "\\item 'who\\textbackslash{}'s'\n",
       "\\item 'what\\textbackslash{}'s'\n",
       "\\item 'here\\textbackslash{}'s'\n",
       "\\item 'there\\textbackslash{}'s'\n",
       "\\item 'when\\textbackslash{}'s'\n",
       "\\item 'where\\textbackslash{}'s'\n",
       "\\item 'why\\textbackslash{}'s'\n",
       "\\item 'how\\textbackslash{}'s'\n",
       "\\item 'a'\n",
       "\\item 'an'\n",
       "\\item 'the'\n",
       "\\item 'and'\n",
       "\\item 'but'\n",
       "\\item 'if'\n",
       "\\item 'or'\n",
       "\\item 'because'\n",
       "\\item 'as'\n",
       "\\item 'until'\n",
       "\\item 'while'\n",
       "\\item 'of'\n",
       "\\item 'at'\n",
       "\\item 'by'\n",
       "\\item 'for'\n",
       "\\item 'with'\n",
       "\\item 'about'\n",
       "\\item 'against'\n",
       "\\item 'between'\n",
       "\\item 'into'\n",
       "\\item 'through'\n",
       "\\item 'during'\n",
       "\\item 'before'\n",
       "\\item 'after'\n",
       "\\item 'above'\n",
       "\\item 'below'\n",
       "\\item 'to'\n",
       "\\item 'from'\n",
       "\\item 'up'\n",
       "\\item 'down'\n",
       "\\item 'in'\n",
       "\\item 'out'\n",
       "\\item 'on'\n",
       "\\item 'off'\n",
       "\\item 'over'\n",
       "\\item 'under'\n",
       "\\item 'again'\n",
       "\\item 'further'\n",
       "\\item 'then'\n",
       "\\item 'once'\n",
       "\\item 'here'\n",
       "\\item 'there'\n",
       "\\item 'when'\n",
       "\\item 'where'\n",
       "\\item 'why'\n",
       "\\item 'how'\n",
       "\\item 'all'\n",
       "\\item 'any'\n",
       "\\item 'both'\n",
       "\\item 'each'\n",
       "\\item 'few'\n",
       "\\item 'more'\n",
       "\\item 'most'\n",
       "\\item 'other'\n",
       "\\item 'some'\n",
       "\\item 'such'\n",
       "\\item 'no'\n",
       "\\item 'nor'\n",
       "\\item 'not'\n",
       "\\item 'only'\n",
       "\\item 'own'\n",
       "\\item 'same'\n",
       "\\item 'so'\n",
       "\\item 'than'\n",
       "\\item 'too'\n",
       "\\item 'very'\n",
       "\\end{enumerate*}\n"
      ],
      "text/markdown": [
       "1. 'i'\n",
       "2. 'me'\n",
       "3. 'my'\n",
       "4. 'myself'\n",
       "5. 'we'\n",
       "6. 'our'\n",
       "7. 'ours'\n",
       "8. 'ourselves'\n",
       "9. 'you'\n",
       "10. 'your'\n",
       "11. 'yours'\n",
       "12. 'yourself'\n",
       "13. 'yourselves'\n",
       "14. 'he'\n",
       "15. 'him'\n",
       "16. 'his'\n",
       "17. 'himself'\n",
       "18. 'she'\n",
       "19. 'her'\n",
       "20. 'hers'\n",
       "21. 'herself'\n",
       "22. 'it'\n",
       "23. 'its'\n",
       "24. 'itself'\n",
       "25. 'they'\n",
       "26. 'them'\n",
       "27. 'their'\n",
       "28. 'theirs'\n",
       "29. 'themselves'\n",
       "30. 'what'\n",
       "31. 'which'\n",
       "32. 'who'\n",
       "33. 'whom'\n",
       "34. 'this'\n",
       "35. 'that'\n",
       "36. 'these'\n",
       "37. 'those'\n",
       "38. 'am'\n",
       "39. 'is'\n",
       "40. 'are'\n",
       "41. 'was'\n",
       "42. 'were'\n",
       "43. 'be'\n",
       "44. 'been'\n",
       "45. 'being'\n",
       "46. 'have'\n",
       "47. 'has'\n",
       "48. 'had'\n",
       "49. 'having'\n",
       "50. 'do'\n",
       "51. 'does'\n",
       "52. 'did'\n",
       "53. 'doing'\n",
       "54. 'would'\n",
       "55. 'should'\n",
       "56. 'could'\n",
       "57. 'ought'\n",
       "58. 'i\\'m'\n",
       "59. 'you\\'re'\n",
       "60. 'he\\'s'\n",
       "61. 'she\\'s'\n",
       "62. 'it\\'s'\n",
       "63. 'we\\'re'\n",
       "64. 'they\\'re'\n",
       "65. 'i\\'ve'\n",
       "66. 'you\\'ve'\n",
       "67. 'we\\'ve'\n",
       "68. 'they\\'ve'\n",
       "69. 'i\\'d'\n",
       "70. 'you\\'d'\n",
       "71. 'he\\'d'\n",
       "72. 'she\\'d'\n",
       "73. 'we\\'d'\n",
       "74. 'they\\'d'\n",
       "75. 'i\\'ll'\n",
       "76. 'you\\'ll'\n",
       "77. 'he\\'ll'\n",
       "78. 'she\\'ll'\n",
       "79. 'we\\'ll'\n",
       "80. 'they\\'ll'\n",
       "81. 'isn\\'t'\n",
       "82. 'aren\\'t'\n",
       "83. 'wasn\\'t'\n",
       "84. 'weren\\'t'\n",
       "85. 'hasn\\'t'\n",
       "86. 'haven\\'t'\n",
       "87. 'hadn\\'t'\n",
       "88. 'doesn\\'t'\n",
       "89. 'don\\'t'\n",
       "90. 'didn\\'t'\n",
       "91. 'won\\'t'\n",
       "92. 'wouldn\\'t'\n",
       "93. 'shan\\'t'\n",
       "94. 'shouldn\\'t'\n",
       "95. 'can\\'t'\n",
       "96. 'cannot'\n",
       "97. 'couldn\\'t'\n",
       "98. 'mustn\\'t'\n",
       "99. 'let\\'s'\n",
       "100. 'that\\'s'\n",
       "101. 'who\\'s'\n",
       "102. 'what\\'s'\n",
       "103. 'here\\'s'\n",
       "104. 'there\\'s'\n",
       "105. 'when\\'s'\n",
       "106. 'where\\'s'\n",
       "107. 'why\\'s'\n",
       "108. 'how\\'s'\n",
       "109. 'a'\n",
       "110. 'an'\n",
       "111. 'the'\n",
       "112. 'and'\n",
       "113. 'but'\n",
       "114. 'if'\n",
       "115. 'or'\n",
       "116. 'because'\n",
       "117. 'as'\n",
       "118. 'until'\n",
       "119. 'while'\n",
       "120. 'of'\n",
       "121. 'at'\n",
       "122. 'by'\n",
       "123. 'for'\n",
       "124. 'with'\n",
       "125. 'about'\n",
       "126. 'against'\n",
       "127. 'between'\n",
       "128. 'into'\n",
       "129. 'through'\n",
       "130. 'during'\n",
       "131. 'before'\n",
       "132. 'after'\n",
       "133. 'above'\n",
       "134. 'below'\n",
       "135. 'to'\n",
       "136. 'from'\n",
       "137. 'up'\n",
       "138. 'down'\n",
       "139. 'in'\n",
       "140. 'out'\n",
       "141. 'on'\n",
       "142. 'off'\n",
       "143. 'over'\n",
       "144. 'under'\n",
       "145. 'again'\n",
       "146. 'further'\n",
       "147. 'then'\n",
       "148. 'once'\n",
       "149. 'here'\n",
       "150. 'there'\n",
       "151. 'when'\n",
       "152. 'where'\n",
       "153. 'why'\n",
       "154. 'how'\n",
       "155. 'all'\n",
       "156. 'any'\n",
       "157. 'both'\n",
       "158. 'each'\n",
       "159. 'few'\n",
       "160. 'more'\n",
       "161. 'most'\n",
       "162. 'other'\n",
       "163. 'some'\n",
       "164. 'such'\n",
       "165. 'no'\n",
       "166. 'nor'\n",
       "167. 'not'\n",
       "168. 'only'\n",
       "169. 'own'\n",
       "170. 'same'\n",
       "171. 'so'\n",
       "172. 'than'\n",
       "173. 'too'\n",
       "174. 'very'\n",
       "\n",
       "\n"
      ],
      "text/plain": [
       "  [1] \"i\"          \"me\"         \"my\"         \"myself\"     \"we\"        \n",
       "  [6] \"our\"        \"ours\"       \"ourselves\"  \"you\"        \"your\"      \n",
       " [11] \"yours\"      \"yourself\"   \"yourselves\" \"he\"         \"him\"       \n",
       " [16] \"his\"        \"himself\"    \"she\"        \"her\"        \"hers\"      \n",
       " [21] \"herself\"    \"it\"         \"its\"        \"itself\"     \"they\"      \n",
       " [26] \"them\"       \"their\"      \"theirs\"     \"themselves\" \"what\"      \n",
       " [31] \"which\"      \"who\"        \"whom\"       \"this\"       \"that\"      \n",
       " [36] \"these\"      \"those\"      \"am\"         \"is\"         \"are\"       \n",
       " [41] \"was\"        \"were\"       \"be\"         \"been\"       \"being\"     \n",
       " [46] \"have\"       \"has\"        \"had\"        \"having\"     \"do\"        \n",
       " [51] \"does\"       \"did\"        \"doing\"      \"would\"      \"should\"    \n",
       " [56] \"could\"      \"ought\"      \"i'm\"        \"you're\"     \"he's\"      \n",
       " [61] \"she's\"      \"it's\"       \"we're\"      \"they're\"    \"i've\"      \n",
       " [66] \"you've\"     \"we've\"      \"they've\"    \"i'd\"        \"you'd\"     \n",
       " [71] \"he'd\"       \"she'd\"      \"we'd\"       \"they'd\"     \"i'll\"      \n",
       " [76] \"you'll\"     \"he'll\"      \"she'll\"     \"we'll\"      \"they'll\"   \n",
       " [81] \"isn't\"      \"aren't\"     \"wasn't\"     \"weren't\"    \"hasn't\"    \n",
       " [86] \"haven't\"    \"hadn't\"     \"doesn't\"    \"don't\"      \"didn't\"    \n",
       " [91] \"won't\"      \"wouldn't\"   \"shan't\"     \"shouldn't\"  \"can't\"     \n",
       " [96] \"cannot\"     \"couldn't\"   \"mustn't\"    \"let's\"      \"that's\"    \n",
       "[101] \"who's\"      \"what's\"     \"here's\"     \"there's\"    \"when's\"    \n",
       "[106] \"where's\"    \"why's\"      \"how's\"      \"a\"          \"an\"        \n",
       "[111] \"the\"        \"and\"        \"but\"        \"if\"         \"or\"        \n",
       "[116] \"because\"    \"as\"         \"until\"      \"while\"      \"of\"        \n",
       "[121] \"at\"         \"by\"         \"for\"        \"with\"       \"about\"     \n",
       "[126] \"against\"    \"between\"    \"into\"       \"through\"    \"during\"    \n",
       "[131] \"before\"     \"after\"      \"above\"      \"below\"      \"to\"        \n",
       "[136] \"from\"       \"up\"         \"down\"       \"in\"         \"out\"       \n",
       "[141] \"on\"         \"off\"        \"over\"       \"under\"      \"again\"     \n",
       "[146] \"further\"    \"then\"       \"once\"       \"here\"       \"there\"     \n",
       "[151] \"when\"       \"where\"      \"why\"        \"how\"        \"all\"       \n",
       "[156] \"any\"        \"both\"       \"each\"       \"few\"        \"more\"      \n",
       "[161] \"most\"       \"other\"      \"some\"       \"such\"       \"no\"        \n",
       "[166] \"nor\"        \"not\"        \"only\"       \"own\"        \"same\"      \n",
       "[171] \"so\"         \"than\"       \"too\"        \"very\"      "
      ]
     },
     "metadata": {},
     "output_type": "display_data"
    }
   ],
   "source": [
    "stopwords()"
   ]
  },
  {
   "cell_type": "code",
   "execution_count": 13,
   "metadata": {},
   "outputs": [
    {
     "name": "stdout",
     "output_type": "stream",
     "text": [
      " chr \"sort    top filter   filter     reviewers filter     stars filter     formats keyword keyword search         st\"| __truncated__\n"
     ]
    },
    {
     "data": {
      "text/html": [
       "'character'"
      ],
      "text/latex": [
       "'character'"
      ],
      "text/markdown": [
       "'character'"
      ],
      "text/plain": [
       "[1] \"character\""
      ]
     },
     "metadata": {},
     "output_type": "display_data"
    }
   ],
   "source": [
    "#remove stopwords\n",
    "d1.6=removeWords(d1.5, stopwords())\n",
    "#d1.6\n",
    "str(d1.6)\n",
    "class(d1.6)\n"
   ]
  },
  {
   "cell_type": "code",
   "execution_count": 14,
   "metadata": {},
   "outputs": [],
   "source": [
    "#making a vector of document specific stopwords sw\n",
    "sw=c('helpful', 'not', 'comment', 'report', 'abuse', 'verified', 'purchase', 'people', 'sort', 'filter', 'review', 'stars', 'formats', 'search', 'keyword', 'top', 'by', 'previous', 'next', 'customer', 'reviews', 'formats', 'reviewer')\n"
   ]
  },
  {
   "cell_type": "code",
   "execution_count": 15,
   "metadata": {},
   "outputs": [
    {
     "name": "stdout",
     "output_type": "stream",
     "text": [
      " chr \"             reviewers                        starspacking  delivery   good   book   disappointing byajon    ma\"| __truncated__\n"
     ]
    },
    {
     "data": {
      "text/html": [
       "'character'"
      ],
      "text/latex": [
       "'character'"
      ],
      "text/markdown": [
       "'character'"
      ],
      "text/plain": [
       "[1] \"character\""
      ]
     },
     "metadata": {},
     "output_type": "display_data"
    }
   ],
   "source": [
    "d1.7=removeWords(d1.6, sw)\n",
    "#d1.7\n",
    "str(d1.7)\n",
    "class(d1.7)\n"
   ]
  },
  {
   "cell_type": "code",
   "execution_count": 16,
   "metadata": {},
   "outputs": [
    {
     "name": "stdout",
     "output_type": "stream",
     "text": [
      " chr \"             reviewers                        starspacking  delivery   good   book   disappointing byajon    ma\"| __truncated__\n"
     ]
    },
    {
     "data": {
      "text/html": [
       "'character'"
      ],
      "text/latex": [
       "'character'"
      ],
      "text/markdown": [
       "'character'"
      ],
      "text/plain": [
       "[1] \"character\""
      ]
     },
     "metadata": {},
     "output_type": "display_data"
    }
   ],
   "source": [
    "#removing the residual 1 character words\n",
    "d1.8=gsub(pattern=\"\\\\b[A-z]\\\\b{1}\", replace=\" \" , d1.7)\n",
    "#d1.8\n",
    "str(d1.8)\n",
    "class(d1.8)\n"
   ]
  },
  {
   "cell_type": "code",
   "execution_count": 17,
   "metadata": {},
   "outputs": [
    {
     "name": "stdout",
     "output_type": "stream",
     "text": [
      " chr \" reviewers starspacking delivery good book disappointing byajon march format paperback quality pages printing p\"| __truncated__\n"
     ]
    },
    {
     "data": {
      "text/html": [
       "'character'"
      ],
      "text/latex": [
       "'character'"
      ],
      "text/markdown": [
       "'character'"
      ],
      "text/plain": [
       "[1] \"character\""
      ]
     },
     "metadata": {},
     "output_type": "display_data"
    }
   ],
   "source": [
    "#remove all residual white space\n",
    "d1.9=stripWhitespace(d1.8)\n",
    "#d1.9\n",
    "str(d1.9)\n",
    "class(d1.9)\n"
   ]
  },
  {
   "cell_type": "code",
   "execution_count": 18,
   "metadata": {},
   "outputs": [],
   "source": [
    "#import stringr \n",
    "library(stringr)\n"
   ]
  },
  {
   "cell_type": "code",
   "execution_count": 19,
   "metadata": {},
   "outputs": [
    {
     "name": "stdout",
     "output_type": "stream",
     "text": [
      "List of 1\n",
      " $ : chr [1:7583] \"\" \"reviewers\" \"starspacking\" \"delivery\" ...\n"
     ]
    },
    {
     "data": {
      "text/html": [
       "'list'"
      ],
      "text/latex": [
       "'list'"
      ],
      "text/markdown": [
       "'list'"
      ],
      "text/plain": [
       "[1] \"list\""
      ]
     },
     "metadata": {},
     "output_type": "display_data"
    }
   ],
   "source": [
    "#split the 1 element vector in list of component words\n",
    "d1.a=str_split(d1.9, pattern=\"\\\\s+\")\n",
    "#d1.a\n",
    "str(d1.a)\n",
    "class(d1.a)\n"
   ]
  },
  {
   "cell_type": "code",
   "execution_count": 20,
   "metadata": {},
   "outputs": [],
   "source": [
    "#unlist to make it a vector of bag of words\n",
    "#dbw is document bag of words\n",
    "dbw=unlist(d1.a)\n"
   ]
  },
  {
   "cell_type": "code",
   "execution_count": 21,
   "metadata": {},
   "outputs": [
    {
     "name": "stdout",
     "output_type": "stream",
     "text": [
      " chr [1:7583] \"\" \"reviewers\" \"starspacking\" \"delivery\" \"good\" \"book\" ...\n"
     ]
    },
    {
     "data": {
      "text/html": [
       "'character'"
      ],
      "text/latex": [
       "'character'"
      ],
      "text/markdown": [
       "'character'"
      ],
      "text/plain": [
       "[1] \"character\""
      ]
     },
     "metadata": {},
     "output_type": "display_data"
    }
   ],
   "source": [
    "#dbw\n",
    "str(dbw)\n",
    "class(dbw)\n"
   ]
  },
  {
   "cell_type": "code",
   "execution_count": 22,
   "metadata": {},
   "outputs": [
    {
     "data": {
      "text/html": [
       "<ol class=list-inline>\n",
       "\t<li>''</li>\n",
       "\t<li>'reviewers'</li>\n",
       "\t<li>'starspacking'</li>\n",
       "\t<li>'delivery'</li>\n",
       "\t<li>'good'</li>\n",
       "\t<li>'book'</li>\n",
       "\t<li>'disappointing'</li>\n",
       "\t<li>'byajon'</li>\n",
       "\t<li>'march'</li>\n",
       "\t<li>'format'</li>\n",
       "\t<li>'paperback'</li>\n",
       "\t<li>'quality'</li>\n",
       "\t<li>'pages'</li>\n",
       "\t<li>'printing'</li>\n",
       "\t<li>'packing'</li>\n",
       "\t<li>'delivery'</li>\n",
       "\t<li>'good'</li>\n",
       "\t<li>'book'</li>\n",
       "\t<li>'disappointing'</li>\n",
       "\t<li>'expected'</li>\n",
       "\t<li>'thriller'</li>\n",
       "\t<li>'like'</li>\n",
       "\t<li>'gone'</li>\n",
       "\t<li>'girl'</li>\n",
       "\t<li>'turned'</li>\n",
       "\t<li>'nothing'</li>\n",
       "\t<li>'like'</li>\n",
       "\t<li>'novel'</li>\n",
       "\t<li>'started'</li>\n",
       "\t<li>'well'</li>\n",
       "\t<li>'dwindled'</li>\n",
       "\t<li>'middle'</li>\n",
       "\t<li>'ended'</li>\n",
       "\t<li>'let'</li>\n",
       "\t<li>'found'</li>\n",
       "\t<li>'starsbelow'</li>\n",
       "\t<li>'expectations'</li>\n",
       "\t<li>'bydr'</li>\n",
       "\t<li>'wanion'</li>\n",
       "\t<li>'march'</li>\n",
       "\t<li>'format'</li>\n",
       "\t<li>'paperback'</li>\n",
       "\t<li>'afraid'</li>\n",
       "\t<li>'book'</li>\n",
       "\t<li>'usual'</li>\n",
       "\t<li>'board'</li>\n",
       "\t<li>'cheap'</li>\n",
       "\t<li>'thriller'</li>\n",
       "\t<li>'nothing'</li>\n",
       "\t<li>'ordinary'</li>\n",
       "</ol>\n"
      ],
      "text/latex": [
       "\\begin{enumerate*}\n",
       "\\item ''\n",
       "\\item 'reviewers'\n",
       "\\item 'starspacking'\n",
       "\\item 'delivery'\n",
       "\\item 'good'\n",
       "\\item 'book'\n",
       "\\item 'disappointing'\n",
       "\\item 'byajon'\n",
       "\\item 'march'\n",
       "\\item 'format'\n",
       "\\item 'paperback'\n",
       "\\item 'quality'\n",
       "\\item 'pages'\n",
       "\\item 'printing'\n",
       "\\item 'packing'\n",
       "\\item 'delivery'\n",
       "\\item 'good'\n",
       "\\item 'book'\n",
       "\\item 'disappointing'\n",
       "\\item 'expected'\n",
       "\\item 'thriller'\n",
       "\\item 'like'\n",
       "\\item 'gone'\n",
       "\\item 'girl'\n",
       "\\item 'turned'\n",
       "\\item 'nothing'\n",
       "\\item 'like'\n",
       "\\item 'novel'\n",
       "\\item 'started'\n",
       "\\item 'well'\n",
       "\\item 'dwindled'\n",
       "\\item 'middle'\n",
       "\\item 'ended'\n",
       "\\item 'let'\n",
       "\\item 'found'\n",
       "\\item 'starsbelow'\n",
       "\\item 'expectations'\n",
       "\\item 'bydr'\n",
       "\\item 'wanion'\n",
       "\\item 'march'\n",
       "\\item 'format'\n",
       "\\item 'paperback'\n",
       "\\item 'afraid'\n",
       "\\item 'book'\n",
       "\\item 'usual'\n",
       "\\item 'board'\n",
       "\\item 'cheap'\n",
       "\\item 'thriller'\n",
       "\\item 'nothing'\n",
       "\\item 'ordinary'\n",
       "\\end{enumerate*}\n"
      ],
      "text/markdown": [
       "1. ''\n",
       "2. 'reviewers'\n",
       "3. 'starspacking'\n",
       "4. 'delivery'\n",
       "5. 'good'\n",
       "6. 'book'\n",
       "7. 'disappointing'\n",
       "8. 'byajon'\n",
       "9. 'march'\n",
       "10. 'format'\n",
       "11. 'paperback'\n",
       "12. 'quality'\n",
       "13. 'pages'\n",
       "14. 'printing'\n",
       "15. 'packing'\n",
       "16. 'delivery'\n",
       "17. 'good'\n",
       "18. 'book'\n",
       "19. 'disappointing'\n",
       "20. 'expected'\n",
       "21. 'thriller'\n",
       "22. 'like'\n",
       "23. 'gone'\n",
       "24. 'girl'\n",
       "25. 'turned'\n",
       "26. 'nothing'\n",
       "27. 'like'\n",
       "28. 'novel'\n",
       "29. 'started'\n",
       "30. 'well'\n",
       "31. 'dwindled'\n",
       "32. 'middle'\n",
       "33. 'ended'\n",
       "34. 'let'\n",
       "35. 'found'\n",
       "36. 'starsbelow'\n",
       "37. 'expectations'\n",
       "38. 'bydr'\n",
       "39. 'wanion'\n",
       "40. 'march'\n",
       "41. 'format'\n",
       "42. 'paperback'\n",
       "43. 'afraid'\n",
       "44. 'book'\n",
       "45. 'usual'\n",
       "46. 'board'\n",
       "47. 'cheap'\n",
       "48. 'thriller'\n",
       "49. 'nothing'\n",
       "50. 'ordinary'\n",
       "\n",
       "\n"
      ],
      "text/plain": [
       " [1] \"\"              \"reviewers\"     \"starspacking\"  \"delivery\"     \n",
       " [5] \"good\"          \"book\"          \"disappointing\" \"byajon\"       \n",
       " [9] \"march\"         \"format\"        \"paperback\"     \"quality\"      \n",
       "[13] \"pages\"         \"printing\"      \"packing\"       \"delivery\"     \n",
       "[17] \"good\"          \"book\"          \"disappointing\" \"expected\"     \n",
       "[21] \"thriller\"      \"like\"          \"gone\"          \"girl\"         \n",
       "[25] \"turned\"        \"nothing\"       \"like\"          \"novel\"        \n",
       "[29] \"started\"       \"well\"          \"dwindled\"      \"middle\"       \n",
       "[33] \"ended\"         \"let\"           \"found\"         \"starsbelow\"   \n",
       "[37] \"expectations\"  \"bydr\"          \"wanion\"        \"march\"        \n",
       "[41] \"format\"        \"paperback\"     \"afraid\"        \"book\"         \n",
       "[45] \"usual\"         \"board\"         \"cheap\"         \"thriller\"     \n",
       "[49] \"nothing\"       \"ordinary\"     "
      ]
     },
     "metadata": {},
     "output_type": "display_data"
    }
   ],
   "source": [
    "#first 50 words of dbw\n",
    "head(dbw, 50)\n"
   ]
  },
  {
   "cell_type": "code",
   "execution_count": 23,
   "metadata": {},
   "outputs": [
    {
     "data": {
      "text/html": [
       "<ol class=list-inline>\n",
       "\t<li>'abound'</li>\n",
       "\t<li>'abounds'</li>\n",
       "\t<li>'abundance'</li>\n",
       "\t<li>'abundant'</li>\n",
       "\t<li>'accessable'</li>\n",
       "\t<li>'accessible'</li>\n",
       "\t<li>'acclaim'</li>\n",
       "\t<li>'acclaimed'</li>\n",
       "\t<li>'acclamation'</li>\n",
       "\t<li>'accolade'</li>\n",
       "\t<li>'accolades'</li>\n",
       "\t<li>'accommodative'</li>\n",
       "\t<li>'accomodative'</li>\n",
       "\t<li>'accomplish'</li>\n",
       "\t<li>'accomplished'</li>\n",
       "\t<li>'accomplishment'</li>\n",
       "\t<li>'accomplishments'</li>\n",
       "\t<li>'accurate'</li>\n",
       "\t<li>'accurately'</li>\n",
       "\t<li>'achievable'</li>\n",
       "\t<li>'achievement'</li>\n",
       "\t<li>'achievements'</li>\n",
       "\t<li>'achievible'</li>\n",
       "\t<li>'acumen'</li>\n",
       "\t<li>'adaptable'</li>\n",
       "\t<li>'adaptive'</li>\n",
       "\t<li>'adequate'</li>\n",
       "\t<li>'adjustable'</li>\n",
       "\t<li>'admirable'</li>\n",
       "\t<li>'admirably'</li>\n",
       "\t<li>'admiration'</li>\n",
       "\t<li>'admire'</li>\n",
       "\t<li>'admirer'</li>\n",
       "\t<li>'admiring'</li>\n",
       "\t<li>'admiringly'</li>\n",
       "\t<li>'adorable'</li>\n",
       "\t<li>'adore'</li>\n",
       "\t<li>'adored'</li>\n",
       "\t<li>'adorer'</li>\n",
       "\t<li>'adoring'</li>\n",
       "\t<li>'adoringly'</li>\n",
       "\t<li>'adroit'</li>\n",
       "\t<li>'adroitly'</li>\n",
       "\t<li>'adulate'</li>\n",
       "\t<li>'adulation'</li>\n",
       "\t<li>'adulatory'</li>\n",
       "\t<li>'advanced'</li>\n",
       "\t<li>'advantage'</li>\n",
       "\t<li>'advantageous'</li>\n",
       "\t<li>'advantageously'</li>\n",
       "</ol>\n"
      ],
      "text/latex": [
       "\\begin{enumerate*}\n",
       "\\item 'abound'\n",
       "\\item 'abounds'\n",
       "\\item 'abundance'\n",
       "\\item 'abundant'\n",
       "\\item 'accessable'\n",
       "\\item 'accessible'\n",
       "\\item 'acclaim'\n",
       "\\item 'acclaimed'\n",
       "\\item 'acclamation'\n",
       "\\item 'accolade'\n",
       "\\item 'accolades'\n",
       "\\item 'accommodative'\n",
       "\\item 'accomodative'\n",
       "\\item 'accomplish'\n",
       "\\item 'accomplished'\n",
       "\\item 'accomplishment'\n",
       "\\item 'accomplishments'\n",
       "\\item 'accurate'\n",
       "\\item 'accurately'\n",
       "\\item 'achievable'\n",
       "\\item 'achievement'\n",
       "\\item 'achievements'\n",
       "\\item 'achievible'\n",
       "\\item 'acumen'\n",
       "\\item 'adaptable'\n",
       "\\item 'adaptive'\n",
       "\\item 'adequate'\n",
       "\\item 'adjustable'\n",
       "\\item 'admirable'\n",
       "\\item 'admirably'\n",
       "\\item 'admiration'\n",
       "\\item 'admire'\n",
       "\\item 'admirer'\n",
       "\\item 'admiring'\n",
       "\\item 'admiringly'\n",
       "\\item 'adorable'\n",
       "\\item 'adore'\n",
       "\\item 'adored'\n",
       "\\item 'adorer'\n",
       "\\item 'adoring'\n",
       "\\item 'adoringly'\n",
       "\\item 'adroit'\n",
       "\\item 'adroitly'\n",
       "\\item 'adulate'\n",
       "\\item 'adulation'\n",
       "\\item 'adulatory'\n",
       "\\item 'advanced'\n",
       "\\item 'advantage'\n",
       "\\item 'advantageous'\n",
       "\\item 'advantageously'\n",
       "\\end{enumerate*}\n"
      ],
      "text/markdown": [
       "1. 'abound'\n",
       "2. 'abounds'\n",
       "3. 'abundance'\n",
       "4. 'abundant'\n",
       "5. 'accessable'\n",
       "6. 'accessible'\n",
       "7. 'acclaim'\n",
       "8. 'acclaimed'\n",
       "9. 'acclamation'\n",
       "10. 'accolade'\n",
       "11. 'accolades'\n",
       "12. 'accommodative'\n",
       "13. 'accomodative'\n",
       "14. 'accomplish'\n",
       "15. 'accomplished'\n",
       "16. 'accomplishment'\n",
       "17. 'accomplishments'\n",
       "18. 'accurate'\n",
       "19. 'accurately'\n",
       "20. 'achievable'\n",
       "21. 'achievement'\n",
       "22. 'achievements'\n",
       "23. 'achievible'\n",
       "24. 'acumen'\n",
       "25. 'adaptable'\n",
       "26. 'adaptive'\n",
       "27. 'adequate'\n",
       "28. 'adjustable'\n",
       "29. 'admirable'\n",
       "30. 'admirably'\n",
       "31. 'admiration'\n",
       "32. 'admire'\n",
       "33. 'admirer'\n",
       "34. 'admiring'\n",
       "35. 'admiringly'\n",
       "36. 'adorable'\n",
       "37. 'adore'\n",
       "38. 'adored'\n",
       "39. 'adorer'\n",
       "40. 'adoring'\n",
       "41. 'adoringly'\n",
       "42. 'adroit'\n",
       "43. 'adroitly'\n",
       "44. 'adulate'\n",
       "45. 'adulation'\n",
       "46. 'adulatory'\n",
       "47. 'advanced'\n",
       "48. 'advantage'\n",
       "49. 'advantageous'\n",
       "50. 'advantageously'\n",
       "\n",
       "\n"
      ],
      "text/plain": [
       " [1] \"abound\"          \"abounds\"         \"abundance\"       \"abundant\"       \n",
       " [5] \"accessable\"      \"accessible\"      \"acclaim\"         \"acclaimed\"      \n",
       " [9] \"acclamation\"     \"accolade\"        \"accolades\"       \"accommodative\"  \n",
       "[13] \"accomodative\"    \"accomplish\"      \"accomplished\"    \"accomplishment\" \n",
       "[17] \"accomplishments\" \"accurate\"        \"accurately\"      \"achievable\"     \n",
       "[21] \"achievement\"     \"achievements\"    \"achievible\"      \"acumen\"         \n",
       "[25] \"adaptable\"       \"adaptive\"        \"adequate\"        \"adjustable\"     \n",
       "[29] \"admirable\"       \"admirably\"       \"admiration\"      \"admire\"         \n",
       "[33] \"admirer\"         \"admiring\"        \"admiringly\"      \"adorable\"       \n",
       "[37] \"adore\"           \"adored\"          \"adorer\"          \"adoring\"        \n",
       "[41] \"adoringly\"       \"adroit\"          \"adroitly\"        \"adulate\"        \n",
       "[45] \"adulation\"       \"adulatory\"       \"advanced\"        \"advantage\"      \n",
       "[49] \"advantageous\"    \"advantageously\" "
      ]
     },
     "metadata": {},
     "output_type": "display_data"
    },
    {
     "name": "stdout",
     "output_type": "stream",
     "text": [
      " chr [1:2005] \"abound\" \"abounds\" \"abundance\" \"abundant\" \"accessable\" ...\n"
     ]
    },
    {
     "data": {
      "text/html": [
       "'character'"
      ],
      "text/latex": [
       "'character'"
      ],
      "text/markdown": [
       "'character'"
      ],
      "text/plain": [
       "[1] \"character\""
      ]
     },
     "metadata": {},
     "output_type": "display_data"
    }
   ],
   "source": [
    "#creating a lexicon (a bag of words) of positive words and negative words\n",
    "posbw=scan('https://cdn.rawgit.com/aviram2308/sentmnt-anlss/f491a815/posd.txt', what='character')\n",
    "#posbw\n",
    "head(posbw, 50)\n",
    "str(posbw)\n",
    "class(posbw)\n"
   ]
  },
  {
   "cell_type": "code",
   "execution_count": 24,
   "metadata": {},
   "outputs": [
    {
     "data": {
      "text/html": [
       "<ol class=list-inline>\n",
       "\t<li>'2-faced'</li>\n",
       "\t<li>'2-faces'</li>\n",
       "\t<li>'abnormal'</li>\n",
       "\t<li>'abolish'</li>\n",
       "\t<li>'abominable'</li>\n",
       "\t<li>'abominably'</li>\n",
       "\t<li>'abominate'</li>\n",
       "\t<li>'abomination'</li>\n",
       "\t<li>'abort'</li>\n",
       "\t<li>'aborted'</li>\n",
       "\t<li>'aborts'</li>\n",
       "\t<li>'abrade'</li>\n",
       "\t<li>'abrasive'</li>\n",
       "\t<li>'abrupt'</li>\n",
       "\t<li>'abruptly'</li>\n",
       "\t<li>'abscond'</li>\n",
       "\t<li>'absence'</li>\n",
       "\t<li>'absent-minded'</li>\n",
       "\t<li>'absentee'</li>\n",
       "\t<li>'absurd'</li>\n",
       "\t<li>'absurdity'</li>\n",
       "\t<li>'absurdly'</li>\n",
       "\t<li>'absurdness'</li>\n",
       "\t<li>'abuse'</li>\n",
       "\t<li>'abused'</li>\n",
       "\t<li>'abuses'</li>\n",
       "\t<li>'abusive'</li>\n",
       "\t<li>'abysmal'</li>\n",
       "\t<li>'abysmally'</li>\n",
       "\t<li>'abyss'</li>\n",
       "\t<li>'accidental'</li>\n",
       "\t<li>'accost'</li>\n",
       "\t<li>'accursed'</li>\n",
       "\t<li>'accusation'</li>\n",
       "\t<li>'accusations'</li>\n",
       "\t<li>'accuse'</li>\n",
       "\t<li>'accuses'</li>\n",
       "\t<li>'accusing'</li>\n",
       "\t<li>'accusingly'</li>\n",
       "\t<li>'acerbate'</li>\n",
       "\t<li>'acerbic'</li>\n",
       "\t<li>'acerbically'</li>\n",
       "\t<li>'ache'</li>\n",
       "\t<li>'ached'</li>\n",
       "\t<li>'aches'</li>\n",
       "\t<li>'achey'</li>\n",
       "\t<li>'aching'</li>\n",
       "\t<li>'acrid'</li>\n",
       "\t<li>'acridly'</li>\n",
       "\t<li>'acridness'</li>\n",
       "</ol>\n"
      ],
      "text/latex": [
       "\\begin{enumerate*}\n",
       "\\item '2-faced'\n",
       "\\item '2-faces'\n",
       "\\item 'abnormal'\n",
       "\\item 'abolish'\n",
       "\\item 'abominable'\n",
       "\\item 'abominably'\n",
       "\\item 'abominate'\n",
       "\\item 'abomination'\n",
       "\\item 'abort'\n",
       "\\item 'aborted'\n",
       "\\item 'aborts'\n",
       "\\item 'abrade'\n",
       "\\item 'abrasive'\n",
       "\\item 'abrupt'\n",
       "\\item 'abruptly'\n",
       "\\item 'abscond'\n",
       "\\item 'absence'\n",
       "\\item 'absent-minded'\n",
       "\\item 'absentee'\n",
       "\\item 'absurd'\n",
       "\\item 'absurdity'\n",
       "\\item 'absurdly'\n",
       "\\item 'absurdness'\n",
       "\\item 'abuse'\n",
       "\\item 'abused'\n",
       "\\item 'abuses'\n",
       "\\item 'abusive'\n",
       "\\item 'abysmal'\n",
       "\\item 'abysmally'\n",
       "\\item 'abyss'\n",
       "\\item 'accidental'\n",
       "\\item 'accost'\n",
       "\\item 'accursed'\n",
       "\\item 'accusation'\n",
       "\\item 'accusations'\n",
       "\\item 'accuse'\n",
       "\\item 'accuses'\n",
       "\\item 'accusing'\n",
       "\\item 'accusingly'\n",
       "\\item 'acerbate'\n",
       "\\item 'acerbic'\n",
       "\\item 'acerbically'\n",
       "\\item 'ache'\n",
       "\\item 'ached'\n",
       "\\item 'aches'\n",
       "\\item 'achey'\n",
       "\\item 'aching'\n",
       "\\item 'acrid'\n",
       "\\item 'acridly'\n",
       "\\item 'acridness'\n",
       "\\end{enumerate*}\n"
      ],
      "text/markdown": [
       "1. '2-faced'\n",
       "2. '2-faces'\n",
       "3. 'abnormal'\n",
       "4. 'abolish'\n",
       "5. 'abominable'\n",
       "6. 'abominably'\n",
       "7. 'abominate'\n",
       "8. 'abomination'\n",
       "9. 'abort'\n",
       "10. 'aborted'\n",
       "11. 'aborts'\n",
       "12. 'abrade'\n",
       "13. 'abrasive'\n",
       "14. 'abrupt'\n",
       "15. 'abruptly'\n",
       "16. 'abscond'\n",
       "17. 'absence'\n",
       "18. 'absent-minded'\n",
       "19. 'absentee'\n",
       "20. 'absurd'\n",
       "21. 'absurdity'\n",
       "22. 'absurdly'\n",
       "23. 'absurdness'\n",
       "24. 'abuse'\n",
       "25. 'abused'\n",
       "26. 'abuses'\n",
       "27. 'abusive'\n",
       "28. 'abysmal'\n",
       "29. 'abysmally'\n",
       "30. 'abyss'\n",
       "31. 'accidental'\n",
       "32. 'accost'\n",
       "33. 'accursed'\n",
       "34. 'accusation'\n",
       "35. 'accusations'\n",
       "36. 'accuse'\n",
       "37. 'accuses'\n",
       "38. 'accusing'\n",
       "39. 'accusingly'\n",
       "40. 'acerbate'\n",
       "41. 'acerbic'\n",
       "42. 'acerbically'\n",
       "43. 'ache'\n",
       "44. 'ached'\n",
       "45. 'aches'\n",
       "46. 'achey'\n",
       "47. 'aching'\n",
       "48. 'acrid'\n",
       "49. 'acridly'\n",
       "50. 'acridness'\n",
       "\n",
       "\n"
      ],
      "text/plain": [
       " [1] \"2-faced\"       \"2-faces\"       \"abnormal\"      \"abolish\"      \n",
       " [5] \"abominable\"    \"abominably\"    \"abominate\"     \"abomination\"  \n",
       " [9] \"abort\"         \"aborted\"       \"aborts\"        \"abrade\"       \n",
       "[13] \"abrasive\"      \"abrupt\"        \"abruptly\"      \"abscond\"      \n",
       "[17] \"absence\"       \"absent-minded\" \"absentee\"      \"absurd\"       \n",
       "[21] \"absurdity\"     \"absurdly\"      \"absurdness\"    \"abuse\"        \n",
       "[25] \"abused\"        \"abuses\"        \"abusive\"       \"abysmal\"      \n",
       "[29] \"abysmally\"     \"abyss\"         \"accidental\"    \"accost\"       \n",
       "[33] \"accursed\"      \"accusation\"    \"accusations\"   \"accuse\"       \n",
       "[37] \"accuses\"       \"accusing\"      \"accusingly\"    \"acerbate\"     \n",
       "[41] \"acerbic\"       \"acerbically\"   \"ache\"          \"ached\"        \n",
       "[45] \"aches\"         \"achey\"         \"aching\"        \"acrid\"        \n",
       "[49] \"acridly\"       \"acridness\"    "
      ]
     },
     "metadata": {},
     "output_type": "display_data"
    },
    {
     "name": "stdout",
     "output_type": "stream",
     "text": [
      " chr [1:4783] \"2-faced\" \"2-faces\" \"abnormal\" \"abolish\" \"abominable\" ...\n"
     ]
    },
    {
     "data": {
      "text/html": [
       "'character'"
      ],
      "text/latex": [
       "'character'"
      ],
      "text/markdown": [
       "'character'"
      ],
      "text/plain": [
       "[1] \"character\""
      ]
     },
     "metadata": {},
     "output_type": "display_data"
    }
   ],
   "source": [
    "negbw=scan('https://cdn.rawgit.com/aviram2308/sentmnt-anlss/f491a815/negd.txt', what='character')\n",
    "#negbw\n",
    "head(negbw, 50)\n",
    "str(negbw)\n",
    "class(negbw)\n"
   ]
  },
  {
   "cell_type": "code",
   "execution_count": 25,
   "metadata": {},
   "outputs": [
    {
     "data": {
      "text/html": [
       "<ol class=list-inline>\n",
       "\t<li>&lt;NA&gt;</li>\n",
       "\t<li>&lt;NA&gt;</li>\n",
       "\t<li>&lt;NA&gt;</li>\n",
       "\t<li>&lt;NA&gt;</li>\n",
       "\t<li>831</li>\n",
       "\t<li>&lt;NA&gt;</li>\n",
       "\t<li>&lt;NA&gt;</li>\n",
       "\t<li>&lt;NA&gt;</li>\n",
       "\t<li>&lt;NA&gt;</li>\n",
       "\t<li>&lt;NA&gt;</li>\n",
       "\t<li>&lt;NA&gt;</li>\n",
       "\t<li>&lt;NA&gt;</li>\n",
       "\t<li>&lt;NA&gt;</li>\n",
       "\t<li>&lt;NA&gt;</li>\n",
       "\t<li>&lt;NA&gt;</li>\n",
       "\t<li>&lt;NA&gt;</li>\n",
       "\t<li>831</li>\n",
       "\t<li>&lt;NA&gt;</li>\n",
       "\t<li>&lt;NA&gt;</li>\n",
       "\t<li>&lt;NA&gt;</li>\n",
       "\t<li>&lt;NA&gt;</li>\n",
       "\t<li>1087</li>\n",
       "\t<li>&lt;NA&gt;</li>\n",
       "\t<li>&lt;NA&gt;</li>\n",
       "\t<li>&lt;NA&gt;</li>\n",
       "\t<li>&lt;NA&gt;</li>\n",
       "\t<li>1087</li>\n",
       "\t<li>&lt;NA&gt;</li>\n",
       "\t<li>&lt;NA&gt;</li>\n",
       "\t<li>1935</li>\n",
       "\t<li>&lt;NA&gt;</li>\n",
       "\t<li>&lt;NA&gt;</li>\n",
       "\t<li>&lt;NA&gt;</li>\n",
       "\t<li>&lt;NA&gt;</li>\n",
       "\t<li>&lt;NA&gt;</li>\n",
       "\t<li>&lt;NA&gt;</li>\n",
       "\t<li>&lt;NA&gt;</li>\n",
       "\t<li>&lt;NA&gt;</li>\n",
       "\t<li>&lt;NA&gt;</li>\n",
       "\t<li>&lt;NA&gt;</li>\n",
       "\t<li>&lt;NA&gt;</li>\n",
       "\t<li>&lt;NA&gt;</li>\n",
       "\t<li>&lt;NA&gt;</li>\n",
       "\t<li>&lt;NA&gt;</li>\n",
       "\t<li>&lt;NA&gt;</li>\n",
       "\t<li>&lt;NA&gt;</li>\n",
       "\t<li>&lt;NA&gt;</li>\n",
       "\t<li>&lt;NA&gt;</li>\n",
       "\t<li>&lt;NA&gt;</li>\n",
       "\t<li>&lt;NA&gt;</li>\n",
       "</ol>\n"
      ],
      "text/latex": [
       "\\begin{enumerate*}\n",
       "\\item <NA>\n",
       "\\item <NA>\n",
       "\\item <NA>\n",
       "\\item <NA>\n",
       "\\item 831\n",
       "\\item <NA>\n",
       "\\item <NA>\n",
       "\\item <NA>\n",
       "\\item <NA>\n",
       "\\item <NA>\n",
       "\\item <NA>\n",
       "\\item <NA>\n",
       "\\item <NA>\n",
       "\\item <NA>\n",
       "\\item <NA>\n",
       "\\item <NA>\n",
       "\\item 831\n",
       "\\item <NA>\n",
       "\\item <NA>\n",
       "\\item <NA>\n",
       "\\item <NA>\n",
       "\\item 1087\n",
       "\\item <NA>\n",
       "\\item <NA>\n",
       "\\item <NA>\n",
       "\\item <NA>\n",
       "\\item 1087\n",
       "\\item <NA>\n",
       "\\item <NA>\n",
       "\\item 1935\n",
       "\\item <NA>\n",
       "\\item <NA>\n",
       "\\item <NA>\n",
       "\\item <NA>\n",
       "\\item <NA>\n",
       "\\item <NA>\n",
       "\\item <NA>\n",
       "\\item <NA>\n",
       "\\item <NA>\n",
       "\\item <NA>\n",
       "\\item <NA>\n",
       "\\item <NA>\n",
       "\\item <NA>\n",
       "\\item <NA>\n",
       "\\item <NA>\n",
       "\\item <NA>\n",
       "\\item <NA>\n",
       "\\item <NA>\n",
       "\\item <NA>\n",
       "\\item <NA>\n",
       "\\end{enumerate*}\n"
      ],
      "text/markdown": [
       "1. &lt;NA&gt;\n",
       "2. &lt;NA&gt;\n",
       "3. &lt;NA&gt;\n",
       "4. &lt;NA&gt;\n",
       "5. 831\n",
       "6. &lt;NA&gt;\n",
       "7. &lt;NA&gt;\n",
       "8. &lt;NA&gt;\n",
       "9. &lt;NA&gt;\n",
       "10. &lt;NA&gt;\n",
       "11. &lt;NA&gt;\n",
       "12. &lt;NA&gt;\n",
       "13. &lt;NA&gt;\n",
       "14. &lt;NA&gt;\n",
       "15. &lt;NA&gt;\n",
       "16. &lt;NA&gt;\n",
       "17. 831\n",
       "18. &lt;NA&gt;\n",
       "19. &lt;NA&gt;\n",
       "20. &lt;NA&gt;\n",
       "21. &lt;NA&gt;\n",
       "22. 1087\n",
       "23. &lt;NA&gt;\n",
       "24. &lt;NA&gt;\n",
       "25. &lt;NA&gt;\n",
       "26. &lt;NA&gt;\n",
       "27. 1087\n",
       "28. &lt;NA&gt;\n",
       "29. &lt;NA&gt;\n",
       "30. 1935\n",
       "31. &lt;NA&gt;\n",
       "32. &lt;NA&gt;\n",
       "33. &lt;NA&gt;\n",
       "34. &lt;NA&gt;\n",
       "35. &lt;NA&gt;\n",
       "36. &lt;NA&gt;\n",
       "37. &lt;NA&gt;\n",
       "38. &lt;NA&gt;\n",
       "39. &lt;NA&gt;\n",
       "40. &lt;NA&gt;\n",
       "41. &lt;NA&gt;\n",
       "42. &lt;NA&gt;\n",
       "43. &lt;NA&gt;\n",
       "44. &lt;NA&gt;\n",
       "45. &lt;NA&gt;\n",
       "46. &lt;NA&gt;\n",
       "47. &lt;NA&gt;\n",
       "48. &lt;NA&gt;\n",
       "49. &lt;NA&gt;\n",
       "50. &lt;NA&gt;\n",
       "\n",
       "\n"
      ],
      "text/plain": [
       " [1]   NA   NA   NA   NA  831   NA   NA   NA   NA   NA   NA   NA   NA   NA   NA\n",
       "[16]   NA  831   NA   NA   NA   NA 1087   NA   NA   NA   NA 1087   NA   NA 1935\n",
       "[31]   NA   NA   NA   NA   NA   NA   NA   NA   NA   NA   NA   NA   NA   NA   NA\n",
       "[46]   NA   NA   NA   NA   NA"
      ]
     },
     "metadata": {},
     "output_type": "display_data"
    }
   ],
   "source": [
    "#creating a positive matrix pm by matching dbw with posbw\n",
    "pm=match(dbw, posbw)\n",
    "#pm\n",
    "head(pm, 50)\n"
   ]
  },
  {
   "cell_type": "code",
   "execution_count": 26,
   "metadata": {},
   "outputs": [
    {
     "data": {
      "text/html": [
       "<ol class=list-inline>\n",
       "\t<li>&lt;NA&gt;</li>\n",
       "\t<li>&lt;NA&gt;</li>\n",
       "\t<li>&lt;NA&gt;</li>\n",
       "\t<li>&lt;NA&gt;</li>\n",
       "\t<li>&lt;NA&gt;</li>\n",
       "\t<li>&lt;NA&gt;</li>\n",
       "\t<li>1114</li>\n",
       "\t<li>&lt;NA&gt;</li>\n",
       "\t<li>&lt;NA&gt;</li>\n",
       "\t<li>&lt;NA&gt;</li>\n",
       "\t<li>&lt;NA&gt;</li>\n",
       "\t<li>&lt;NA&gt;</li>\n",
       "\t<li>&lt;NA&gt;</li>\n",
       "\t<li>&lt;NA&gt;</li>\n",
       "\t<li>&lt;NA&gt;</li>\n",
       "\t<li>&lt;NA&gt;</li>\n",
       "\t<li>&lt;NA&gt;</li>\n",
       "\t<li>&lt;NA&gt;</li>\n",
       "\t<li>1114</li>\n",
       "\t<li>&lt;NA&gt;</li>\n",
       "\t<li>&lt;NA&gt;</li>\n",
       "\t<li>&lt;NA&gt;</li>\n",
       "\t<li>&lt;NA&gt;</li>\n",
       "\t<li>&lt;NA&gt;</li>\n",
       "\t<li>&lt;NA&gt;</li>\n",
       "\t<li>&lt;NA&gt;</li>\n",
       "\t<li>&lt;NA&gt;</li>\n",
       "\t<li>&lt;NA&gt;</li>\n",
       "\t<li>&lt;NA&gt;</li>\n",
       "\t<li>&lt;NA&gt;</li>\n",
       "\t<li>&lt;NA&gt;</li>\n",
       "\t<li>&lt;NA&gt;</li>\n",
       "\t<li>&lt;NA&gt;</li>\n",
       "\t<li>&lt;NA&gt;</li>\n",
       "\t<li>&lt;NA&gt;</li>\n",
       "\t<li>&lt;NA&gt;</li>\n",
       "\t<li>&lt;NA&gt;</li>\n",
       "\t<li>&lt;NA&gt;</li>\n",
       "\t<li>&lt;NA&gt;</li>\n",
       "\t<li>&lt;NA&gt;</li>\n",
       "\t<li>&lt;NA&gt;</li>\n",
       "\t<li>&lt;NA&gt;</li>\n",
       "\t<li>77</li>\n",
       "\t<li>&lt;NA&gt;</li>\n",
       "\t<li>&lt;NA&gt;</li>\n",
       "\t<li>&lt;NA&gt;</li>\n",
       "\t<li>557</li>\n",
       "\t<li>&lt;NA&gt;</li>\n",
       "\t<li>&lt;NA&gt;</li>\n",
       "\t<li>&lt;NA&gt;</li>\n",
       "</ol>\n"
      ],
      "text/latex": [
       "\\begin{enumerate*}\n",
       "\\item <NA>\n",
       "\\item <NA>\n",
       "\\item <NA>\n",
       "\\item <NA>\n",
       "\\item <NA>\n",
       "\\item <NA>\n",
       "\\item 1114\n",
       "\\item <NA>\n",
       "\\item <NA>\n",
       "\\item <NA>\n",
       "\\item <NA>\n",
       "\\item <NA>\n",
       "\\item <NA>\n",
       "\\item <NA>\n",
       "\\item <NA>\n",
       "\\item <NA>\n",
       "\\item <NA>\n",
       "\\item <NA>\n",
       "\\item 1114\n",
       "\\item <NA>\n",
       "\\item <NA>\n",
       "\\item <NA>\n",
       "\\item <NA>\n",
       "\\item <NA>\n",
       "\\item <NA>\n",
       "\\item <NA>\n",
       "\\item <NA>\n",
       "\\item <NA>\n",
       "\\item <NA>\n",
       "\\item <NA>\n",
       "\\item <NA>\n",
       "\\item <NA>\n",
       "\\item <NA>\n",
       "\\item <NA>\n",
       "\\item <NA>\n",
       "\\item <NA>\n",
       "\\item <NA>\n",
       "\\item <NA>\n",
       "\\item <NA>\n",
       "\\item <NA>\n",
       "\\item <NA>\n",
       "\\item <NA>\n",
       "\\item 77\n",
       "\\item <NA>\n",
       "\\item <NA>\n",
       "\\item <NA>\n",
       "\\item 557\n",
       "\\item <NA>\n",
       "\\item <NA>\n",
       "\\item <NA>\n",
       "\\end{enumerate*}\n"
      ],
      "text/markdown": [
       "1. &lt;NA&gt;\n",
       "2. &lt;NA&gt;\n",
       "3. &lt;NA&gt;\n",
       "4. &lt;NA&gt;\n",
       "5. &lt;NA&gt;\n",
       "6. &lt;NA&gt;\n",
       "7. 1114\n",
       "8. &lt;NA&gt;\n",
       "9. &lt;NA&gt;\n",
       "10. &lt;NA&gt;\n",
       "11. &lt;NA&gt;\n",
       "12. &lt;NA&gt;\n",
       "13. &lt;NA&gt;\n",
       "14. &lt;NA&gt;\n",
       "15. &lt;NA&gt;\n",
       "16. &lt;NA&gt;\n",
       "17. &lt;NA&gt;\n",
       "18. &lt;NA&gt;\n",
       "19. 1114\n",
       "20. &lt;NA&gt;\n",
       "21. &lt;NA&gt;\n",
       "22. &lt;NA&gt;\n",
       "23. &lt;NA&gt;\n",
       "24. &lt;NA&gt;\n",
       "25. &lt;NA&gt;\n",
       "26. &lt;NA&gt;\n",
       "27. &lt;NA&gt;\n",
       "28. &lt;NA&gt;\n",
       "29. &lt;NA&gt;\n",
       "30. &lt;NA&gt;\n",
       "31. &lt;NA&gt;\n",
       "32. &lt;NA&gt;\n",
       "33. &lt;NA&gt;\n",
       "34. &lt;NA&gt;\n",
       "35. &lt;NA&gt;\n",
       "36. &lt;NA&gt;\n",
       "37. &lt;NA&gt;\n",
       "38. &lt;NA&gt;\n",
       "39. &lt;NA&gt;\n",
       "40. &lt;NA&gt;\n",
       "41. &lt;NA&gt;\n",
       "42. &lt;NA&gt;\n",
       "43. 77\n",
       "44. &lt;NA&gt;\n",
       "45. &lt;NA&gt;\n",
       "46. &lt;NA&gt;\n",
       "47. 557\n",
       "48. &lt;NA&gt;\n",
       "49. &lt;NA&gt;\n",
       "50. &lt;NA&gt;\n",
       "\n",
       "\n"
      ],
      "text/plain": [
       " [1]   NA   NA   NA   NA   NA   NA 1114   NA   NA   NA   NA   NA   NA   NA   NA\n",
       "[16]   NA   NA   NA 1114   NA   NA   NA   NA   NA   NA   NA   NA   NA   NA   NA\n",
       "[31]   NA   NA   NA   NA   NA   NA   NA   NA   NA   NA   NA   NA   77   NA   NA\n",
       "[46]   NA  557   NA   NA   NA"
      ]
     },
     "metadata": {},
     "output_type": "display_data"
    }
   ],
   "source": [
    "#similarly create a negative matrix nm\n",
    "nm=match(dbw, negbw)\n",
    "#nm\n",
    "head(nm, 50)\n"
   ]
  },
  {
   "cell_type": "code",
   "execution_count": 27,
   "metadata": {},
   "outputs": [
    {
     "data": {
      "text/html": [
       "<ol class=list-inline>\n",
       "\t<li>TRUE</li>\n",
       "\t<li>TRUE</li>\n",
       "\t<li>TRUE</li>\n",
       "\t<li>TRUE</li>\n",
       "\t<li>FALSE</li>\n",
       "\t<li>TRUE</li>\n",
       "\t<li>TRUE</li>\n",
       "\t<li>TRUE</li>\n",
       "\t<li>TRUE</li>\n",
       "\t<li>TRUE</li>\n",
       "\t<li>TRUE</li>\n",
       "\t<li>TRUE</li>\n",
       "\t<li>TRUE</li>\n",
       "\t<li>TRUE</li>\n",
       "\t<li>TRUE</li>\n",
       "\t<li>TRUE</li>\n",
       "\t<li>FALSE</li>\n",
       "\t<li>TRUE</li>\n",
       "\t<li>TRUE</li>\n",
       "\t<li>TRUE</li>\n",
       "\t<li>TRUE</li>\n",
       "\t<li>FALSE</li>\n",
       "\t<li>TRUE</li>\n",
       "\t<li>TRUE</li>\n",
       "\t<li>TRUE</li>\n",
       "\t<li>TRUE</li>\n",
       "\t<li>FALSE</li>\n",
       "\t<li>TRUE</li>\n",
       "\t<li>TRUE</li>\n",
       "\t<li>FALSE</li>\n",
       "\t<li>TRUE</li>\n",
       "\t<li>TRUE</li>\n",
       "\t<li>TRUE</li>\n",
       "\t<li>TRUE</li>\n",
       "\t<li>TRUE</li>\n",
       "\t<li>TRUE</li>\n",
       "\t<li>TRUE</li>\n",
       "\t<li>TRUE</li>\n",
       "\t<li>TRUE</li>\n",
       "\t<li>TRUE</li>\n",
       "\t<li>TRUE</li>\n",
       "\t<li>TRUE</li>\n",
       "\t<li>TRUE</li>\n",
       "\t<li>TRUE</li>\n",
       "\t<li>TRUE</li>\n",
       "\t<li>TRUE</li>\n",
       "\t<li>TRUE</li>\n",
       "\t<li>TRUE</li>\n",
       "\t<li>TRUE</li>\n",
       "\t<li>TRUE</li>\n",
       "</ol>\n"
      ],
      "text/latex": [
       "\\begin{enumerate*}\n",
       "\\item TRUE\n",
       "\\item TRUE\n",
       "\\item TRUE\n",
       "\\item TRUE\n",
       "\\item FALSE\n",
       "\\item TRUE\n",
       "\\item TRUE\n",
       "\\item TRUE\n",
       "\\item TRUE\n",
       "\\item TRUE\n",
       "\\item TRUE\n",
       "\\item TRUE\n",
       "\\item TRUE\n",
       "\\item TRUE\n",
       "\\item TRUE\n",
       "\\item TRUE\n",
       "\\item FALSE\n",
       "\\item TRUE\n",
       "\\item TRUE\n",
       "\\item TRUE\n",
       "\\item TRUE\n",
       "\\item FALSE\n",
       "\\item TRUE\n",
       "\\item TRUE\n",
       "\\item TRUE\n",
       "\\item TRUE\n",
       "\\item FALSE\n",
       "\\item TRUE\n",
       "\\item TRUE\n",
       "\\item FALSE\n",
       "\\item TRUE\n",
       "\\item TRUE\n",
       "\\item TRUE\n",
       "\\item TRUE\n",
       "\\item TRUE\n",
       "\\item TRUE\n",
       "\\item TRUE\n",
       "\\item TRUE\n",
       "\\item TRUE\n",
       "\\item TRUE\n",
       "\\item TRUE\n",
       "\\item TRUE\n",
       "\\item TRUE\n",
       "\\item TRUE\n",
       "\\item TRUE\n",
       "\\item TRUE\n",
       "\\item TRUE\n",
       "\\item TRUE\n",
       "\\item TRUE\n",
       "\\item TRUE\n",
       "\\end{enumerate*}\n"
      ],
      "text/markdown": [
       "1. TRUE\n",
       "2. TRUE\n",
       "3. TRUE\n",
       "4. TRUE\n",
       "5. FALSE\n",
       "6. TRUE\n",
       "7. TRUE\n",
       "8. TRUE\n",
       "9. TRUE\n",
       "10. TRUE\n",
       "11. TRUE\n",
       "12. TRUE\n",
       "13. TRUE\n",
       "14. TRUE\n",
       "15. TRUE\n",
       "16. TRUE\n",
       "17. FALSE\n",
       "18. TRUE\n",
       "19. TRUE\n",
       "20. TRUE\n",
       "21. TRUE\n",
       "22. FALSE\n",
       "23. TRUE\n",
       "24. TRUE\n",
       "25. TRUE\n",
       "26. TRUE\n",
       "27. FALSE\n",
       "28. TRUE\n",
       "29. TRUE\n",
       "30. FALSE\n",
       "31. TRUE\n",
       "32. TRUE\n",
       "33. TRUE\n",
       "34. TRUE\n",
       "35. TRUE\n",
       "36. TRUE\n",
       "37. TRUE\n",
       "38. TRUE\n",
       "39. TRUE\n",
       "40. TRUE\n",
       "41. TRUE\n",
       "42. TRUE\n",
       "43. TRUE\n",
       "44. TRUE\n",
       "45. TRUE\n",
       "46. TRUE\n",
       "47. TRUE\n",
       "48. TRUE\n",
       "49. TRUE\n",
       "50. TRUE\n",
       "\n",
       "\n"
      ],
      "text/plain": [
       " [1]  TRUE  TRUE  TRUE  TRUE FALSE  TRUE  TRUE  TRUE  TRUE  TRUE  TRUE  TRUE\n",
       "[13]  TRUE  TRUE  TRUE  TRUE FALSE  TRUE  TRUE  TRUE  TRUE FALSE  TRUE  TRUE\n",
       "[25]  TRUE  TRUE FALSE  TRUE  TRUE FALSE  TRUE  TRUE  TRUE  TRUE  TRUE  TRUE\n",
       "[37]  TRUE  TRUE  TRUE  TRUE  TRUE  TRUE  TRUE  TRUE  TRUE  TRUE  TRUE  TRUE\n",
       "[49]  TRUE  TRUE"
      ]
     },
     "metadata": {},
     "output_type": "display_data"
    }
   ],
   "source": [
    "# creating a binary matrix \n",
    "p=is.na(pm)\n",
    "#p\n",
    "head(p, 50)\n"
   ]
  },
  {
   "cell_type": "code",
   "execution_count": 28,
   "metadata": {},
   "outputs": [
    {
     "data": {
      "text/html": [
       "<ol class=list-inline>\n",
       "\t<li>FALSE</li>\n",
       "\t<li>FALSE</li>\n",
       "\t<li>FALSE</li>\n",
       "\t<li>FALSE</li>\n",
       "\t<li>TRUE</li>\n",
       "\t<li>FALSE</li>\n",
       "\t<li>FALSE</li>\n",
       "\t<li>FALSE</li>\n",
       "\t<li>FALSE</li>\n",
       "\t<li>FALSE</li>\n",
       "\t<li>FALSE</li>\n",
       "\t<li>FALSE</li>\n",
       "\t<li>FALSE</li>\n",
       "\t<li>FALSE</li>\n",
       "\t<li>FALSE</li>\n",
       "\t<li>FALSE</li>\n",
       "\t<li>TRUE</li>\n",
       "\t<li>FALSE</li>\n",
       "\t<li>FALSE</li>\n",
       "\t<li>FALSE</li>\n",
       "\t<li>FALSE</li>\n",
       "\t<li>TRUE</li>\n",
       "\t<li>FALSE</li>\n",
       "\t<li>FALSE</li>\n",
       "\t<li>FALSE</li>\n",
       "\t<li>FALSE</li>\n",
       "\t<li>TRUE</li>\n",
       "\t<li>FALSE</li>\n",
       "\t<li>FALSE</li>\n",
       "\t<li>TRUE</li>\n",
       "\t<li>FALSE</li>\n",
       "\t<li>FALSE</li>\n",
       "\t<li>FALSE</li>\n",
       "\t<li>FALSE</li>\n",
       "\t<li>FALSE</li>\n",
       "\t<li>FALSE</li>\n",
       "\t<li>FALSE</li>\n",
       "\t<li>FALSE</li>\n",
       "\t<li>FALSE</li>\n",
       "\t<li>FALSE</li>\n",
       "\t<li>FALSE</li>\n",
       "\t<li>FALSE</li>\n",
       "\t<li>FALSE</li>\n",
       "\t<li>FALSE</li>\n",
       "\t<li>FALSE</li>\n",
       "\t<li>FALSE</li>\n",
       "\t<li>FALSE</li>\n",
       "\t<li>FALSE</li>\n",
       "\t<li>FALSE</li>\n",
       "\t<li>FALSE</li>\n",
       "</ol>\n"
      ],
      "text/latex": [
       "\\begin{enumerate*}\n",
       "\\item FALSE\n",
       "\\item FALSE\n",
       "\\item FALSE\n",
       "\\item FALSE\n",
       "\\item TRUE\n",
       "\\item FALSE\n",
       "\\item FALSE\n",
       "\\item FALSE\n",
       "\\item FALSE\n",
       "\\item FALSE\n",
       "\\item FALSE\n",
       "\\item FALSE\n",
       "\\item FALSE\n",
       "\\item FALSE\n",
       "\\item FALSE\n",
       "\\item FALSE\n",
       "\\item TRUE\n",
       "\\item FALSE\n",
       "\\item FALSE\n",
       "\\item FALSE\n",
       "\\item FALSE\n",
       "\\item TRUE\n",
       "\\item FALSE\n",
       "\\item FALSE\n",
       "\\item FALSE\n",
       "\\item FALSE\n",
       "\\item TRUE\n",
       "\\item FALSE\n",
       "\\item FALSE\n",
       "\\item TRUE\n",
       "\\item FALSE\n",
       "\\item FALSE\n",
       "\\item FALSE\n",
       "\\item FALSE\n",
       "\\item FALSE\n",
       "\\item FALSE\n",
       "\\item FALSE\n",
       "\\item FALSE\n",
       "\\item FALSE\n",
       "\\item FALSE\n",
       "\\item FALSE\n",
       "\\item FALSE\n",
       "\\item FALSE\n",
       "\\item FALSE\n",
       "\\item FALSE\n",
       "\\item FALSE\n",
       "\\item FALSE\n",
       "\\item FALSE\n",
       "\\item FALSE\n",
       "\\item FALSE\n",
       "\\end{enumerate*}\n"
      ],
      "text/markdown": [
       "1. FALSE\n",
       "2. FALSE\n",
       "3. FALSE\n",
       "4. FALSE\n",
       "5. TRUE\n",
       "6. FALSE\n",
       "7. FALSE\n",
       "8. FALSE\n",
       "9. FALSE\n",
       "10. FALSE\n",
       "11. FALSE\n",
       "12. FALSE\n",
       "13. FALSE\n",
       "14. FALSE\n",
       "15. FALSE\n",
       "16. FALSE\n",
       "17. TRUE\n",
       "18. FALSE\n",
       "19. FALSE\n",
       "20. FALSE\n",
       "21. FALSE\n",
       "22. TRUE\n",
       "23. FALSE\n",
       "24. FALSE\n",
       "25. FALSE\n",
       "26. FALSE\n",
       "27. TRUE\n",
       "28. FALSE\n",
       "29. FALSE\n",
       "30. TRUE\n",
       "31. FALSE\n",
       "32. FALSE\n",
       "33. FALSE\n",
       "34. FALSE\n",
       "35. FALSE\n",
       "36. FALSE\n",
       "37. FALSE\n",
       "38. FALSE\n",
       "39. FALSE\n",
       "40. FALSE\n",
       "41. FALSE\n",
       "42. FALSE\n",
       "43. FALSE\n",
       "44. FALSE\n",
       "45. FALSE\n",
       "46. FALSE\n",
       "47. FALSE\n",
       "48. FALSE\n",
       "49. FALSE\n",
       "50. FALSE\n",
       "\n",
       "\n"
      ],
      "text/plain": [
       " [1] FALSE FALSE FALSE FALSE  TRUE FALSE FALSE FALSE FALSE FALSE FALSE FALSE\n",
       "[13] FALSE FALSE FALSE FALSE  TRUE FALSE FALSE FALSE FALSE  TRUE FALSE FALSE\n",
       "[25] FALSE FALSE  TRUE FALSE FALSE  TRUE FALSE FALSE FALSE FALSE FALSE FALSE\n",
       "[37] FALSE FALSE FALSE FALSE FALSE FALSE FALSE FALSE FALSE FALSE FALSE FALSE\n",
       "[49] FALSE FALSE"
      ]
     },
     "metadata": {},
     "output_type": "display_data"
    }
   ],
   "source": [
    "# making true where there is a match\n",
    "p=!is.na(pm)\n",
    "#p\n",
    "head(p, 50)\n"
   ]
  },
  {
   "cell_type": "code",
   "execution_count": 29,
   "metadata": {},
   "outputs": [
    {
     "data": {
      "text/html": [
       "<ol class=list-inline>\n",
       "\t<li>FALSE</li>\n",
       "\t<li>FALSE</li>\n",
       "\t<li>FALSE</li>\n",
       "\t<li>FALSE</li>\n",
       "\t<li>FALSE</li>\n",
       "\t<li>FALSE</li>\n",
       "\t<li>TRUE</li>\n",
       "\t<li>FALSE</li>\n",
       "\t<li>FALSE</li>\n",
       "\t<li>FALSE</li>\n",
       "\t<li>FALSE</li>\n",
       "\t<li>FALSE</li>\n",
       "\t<li>FALSE</li>\n",
       "\t<li>FALSE</li>\n",
       "\t<li>FALSE</li>\n",
       "\t<li>FALSE</li>\n",
       "\t<li>FALSE</li>\n",
       "\t<li>FALSE</li>\n",
       "\t<li>TRUE</li>\n",
       "\t<li>FALSE</li>\n",
       "\t<li>FALSE</li>\n",
       "\t<li>FALSE</li>\n",
       "\t<li>FALSE</li>\n",
       "\t<li>FALSE</li>\n",
       "\t<li>FALSE</li>\n",
       "\t<li>FALSE</li>\n",
       "\t<li>FALSE</li>\n",
       "\t<li>FALSE</li>\n",
       "\t<li>FALSE</li>\n",
       "\t<li>FALSE</li>\n",
       "\t<li>FALSE</li>\n",
       "\t<li>FALSE</li>\n",
       "\t<li>FALSE</li>\n",
       "\t<li>FALSE</li>\n",
       "\t<li>FALSE</li>\n",
       "\t<li>FALSE</li>\n",
       "\t<li>FALSE</li>\n",
       "\t<li>FALSE</li>\n",
       "\t<li>FALSE</li>\n",
       "\t<li>FALSE</li>\n",
       "\t<li>FALSE</li>\n",
       "\t<li>FALSE</li>\n",
       "\t<li>TRUE</li>\n",
       "\t<li>FALSE</li>\n",
       "\t<li>FALSE</li>\n",
       "\t<li>FALSE</li>\n",
       "\t<li>TRUE</li>\n",
       "\t<li>FALSE</li>\n",
       "\t<li>FALSE</li>\n",
       "\t<li>FALSE</li>\n",
       "</ol>\n"
      ],
      "text/latex": [
       "\\begin{enumerate*}\n",
       "\\item FALSE\n",
       "\\item FALSE\n",
       "\\item FALSE\n",
       "\\item FALSE\n",
       "\\item FALSE\n",
       "\\item FALSE\n",
       "\\item TRUE\n",
       "\\item FALSE\n",
       "\\item FALSE\n",
       "\\item FALSE\n",
       "\\item FALSE\n",
       "\\item FALSE\n",
       "\\item FALSE\n",
       "\\item FALSE\n",
       "\\item FALSE\n",
       "\\item FALSE\n",
       "\\item FALSE\n",
       "\\item FALSE\n",
       "\\item TRUE\n",
       "\\item FALSE\n",
       "\\item FALSE\n",
       "\\item FALSE\n",
       "\\item FALSE\n",
       "\\item FALSE\n",
       "\\item FALSE\n",
       "\\item FALSE\n",
       "\\item FALSE\n",
       "\\item FALSE\n",
       "\\item FALSE\n",
       "\\item FALSE\n",
       "\\item FALSE\n",
       "\\item FALSE\n",
       "\\item FALSE\n",
       "\\item FALSE\n",
       "\\item FALSE\n",
       "\\item FALSE\n",
       "\\item FALSE\n",
       "\\item FALSE\n",
       "\\item FALSE\n",
       "\\item FALSE\n",
       "\\item FALSE\n",
       "\\item FALSE\n",
       "\\item TRUE\n",
       "\\item FALSE\n",
       "\\item FALSE\n",
       "\\item FALSE\n",
       "\\item TRUE\n",
       "\\item FALSE\n",
       "\\item FALSE\n",
       "\\item FALSE\n",
       "\\end{enumerate*}\n"
      ],
      "text/markdown": [
       "1. FALSE\n",
       "2. FALSE\n",
       "3. FALSE\n",
       "4. FALSE\n",
       "5. FALSE\n",
       "6. FALSE\n",
       "7. TRUE\n",
       "8. FALSE\n",
       "9. FALSE\n",
       "10. FALSE\n",
       "11. FALSE\n",
       "12. FALSE\n",
       "13. FALSE\n",
       "14. FALSE\n",
       "15. FALSE\n",
       "16. FALSE\n",
       "17. FALSE\n",
       "18. FALSE\n",
       "19. TRUE\n",
       "20. FALSE\n",
       "21. FALSE\n",
       "22. FALSE\n",
       "23. FALSE\n",
       "24. FALSE\n",
       "25. FALSE\n",
       "26. FALSE\n",
       "27. FALSE\n",
       "28. FALSE\n",
       "29. FALSE\n",
       "30. FALSE\n",
       "31. FALSE\n",
       "32. FALSE\n",
       "33. FALSE\n",
       "34. FALSE\n",
       "35. FALSE\n",
       "36. FALSE\n",
       "37. FALSE\n",
       "38. FALSE\n",
       "39. FALSE\n",
       "40. FALSE\n",
       "41. FALSE\n",
       "42. FALSE\n",
       "43. TRUE\n",
       "44. FALSE\n",
       "45. FALSE\n",
       "46. FALSE\n",
       "47. TRUE\n",
       "48. FALSE\n",
       "49. FALSE\n",
       "50. FALSE\n",
       "\n",
       "\n"
      ],
      "text/plain": [
       " [1] FALSE FALSE FALSE FALSE FALSE FALSE  TRUE FALSE FALSE FALSE FALSE FALSE\n",
       "[13] FALSE FALSE FALSE FALSE FALSE FALSE  TRUE FALSE FALSE FALSE FALSE FALSE\n",
       "[25] FALSE FALSE FALSE FALSE FALSE FALSE FALSE FALSE FALSE FALSE FALSE FALSE\n",
       "[37] FALSE FALSE FALSE FALSE FALSE FALSE  TRUE FALSE FALSE FALSE  TRUE FALSE\n",
       "[49] FALSE FALSE"
      ]
     },
     "metadata": {},
     "output_type": "display_data"
    }
   ],
   "source": [
    "n=!is.na(nm)\n",
    "#n\n",
    "head(n,50)\n"
   ]
  },
  {
   "cell_type": "code",
   "execution_count": 36,
   "metadata": {},
   "outputs": [
    {
     "data": {
      "text/html": [
       "726"
      ],
      "text/latex": [
       "726"
      ],
      "text/markdown": [
       "726"
      ],
      "text/plain": [
       "[1] 726"
      ]
     },
     "metadata": {},
     "output_type": "display_data"
    }
   ],
   "source": [
    "#calculating positive score ps and negative score ns\n",
    "#True=1 and False=0\n",
    "ps=sum(p)\n",
    "ps\n"
   ]
  },
  {
   "cell_type": "code",
   "execution_count": 37,
   "metadata": {},
   "outputs": [
    {
     "data": {
      "text/html": [
       "421"
      ],
      "text/latex": [
       "421"
      ],
      "text/markdown": [
       "421"
      ],
      "text/plain": [
       "[1] 421"
      ]
     },
     "metadata": {},
     "output_type": "display_data"
    }
   ],
   "source": [
    "ns=sum(n)\n",
    "ns\n"
   ]
  },
  {
   "cell_type": "code",
   "execution_count": 38,
   "metadata": {},
   "outputs": [
    {
     "data": {
      "text/html": [
       "305"
      ],
      "text/latex": [
       "305"
      ],
      "text/markdown": [
       "305"
      ],
      "text/plain": [
       "[1] 305"
      ]
     },
     "metadata": {},
     "output_type": "display_data"
    }
   ],
   "source": [
    "#calculating sentiment score\n",
    "sc=ps-ns\n",
    "sc\n"
   ]
  },
  {
   "cell_type": "code",
   "execution_count": 39,
   "metadata": {},
   "outputs": [
    {
     "data": {
      "text/html": [
       "0.0402215481999209"
      ],
      "text/latex": [
       "0.0402215481999209"
      ],
      "text/markdown": [
       "0.0402215481999209"
      ],
      "text/plain": [
       "[1] 0.04022155"
      ]
     },
     "metadata": {},
     "output_type": "display_data"
    }
   ],
   "source": [
    "#normalised sentiment score\n",
    "l=length(dbw)\n",
    "nsc=sc/l\n",
    "nsc\n"
   ]
  },
  {
   "cell_type": "code",
   "execution_count": 40,
   "metadata": {},
   "outputs": [],
   "source": [
    "# creating a corpus of 3 documents using the following urls\n",
    "url1='https://cdn.rawgit.com/aviram2308/sentmnt-anlss/f6a35562/gone%20gl2.txt'\n",
    "url2='https://cdn.rawgit.com/aviram2308/sentmnt-anlss/f6a35562/gl%20on%20trn2.txt'\n",
    "url3='https://cdn.rawgit.com/aviram2308/sentmnt-anlss/f6a35562/into%20d%20wtr2.txt'\n",
    "urls=c(url1, url2, url3)\n"
   ]
  },
  {
   "cell_type": "code",
   "execution_count": 41,
   "metadata": {},
   "outputs": [
    {
     "name": "stdout",
     "output_type": "stream",
     "text": [
      "List of 3\n",
      " $ : chr [1:2768] \"\" \"Sort by:\" \"\" \"Top\" ...\n",
      " $ : chr [1:2663] \"Sort by:\" \"\" \"Top\" \"Filter by: Filter by: \" ...\n",
      " $ : chr [1:2917] \"SORT BY\" \"\" \"Top rated\" \"FILTER BY\" ...\n"
     ]
    },
    {
     "data": {
      "text/html": [
       "'list'"
      ],
      "text/latex": [
       "'list'"
      ],
      "text/markdown": [
       "'list'"
      ],
      "text/plain": [
       "[1] \"list\""
      ]
     },
     "metadata": {},
     "output_type": "display_data"
    }
   ],
   "source": [
    "#using list apply to apply functions one by one on each element of the list\n",
    "c1=lapply(urls, FUN=readLines)\n",
    "str(c1)\n",
    "class(c1)\n"
   ]
  },
  {
   "cell_type": "code",
   "execution_count": 42,
   "metadata": {},
   "outputs": [
    {
     "name": "stdout",
     "output_type": "stream",
     "text": [
      "List of 3\n",
      " $ : chr \" Sort by:  Top Filter by: Filter by:  All reviewers Filter by:  All stars Filter by:  All formats Keyword Keywo\"| __truncated__\n",
      " $ : chr \"Sort by:  Top Filter by: Filter by:  All reviewers Filter by:  All stars Filter by:  All formats Keyword Keywor\"| __truncated__\n",
      " $ : chr \"SORT BY  Top rated FILTER BY  All reviewers  All stars  All formats  Text, image, video 1.0 out of 5 starsSo ba\"| __truncated__\n"
     ]
    },
    {
     "data": {
      "text/html": [
       "'list'"
      ],
      "text/latex": [
       "'list'"
      ],
      "text/markdown": [
       "'list'"
      ],
      "text/plain": [
       "[1] \"list\""
      ]
     },
     "metadata": {},
     "output_type": "display_data"
    }
   ],
   "source": [
    "c1.2=lapply(c1, FUN= paste, collapse=\" \")\n",
    "str(c1.2)\n",
    "class(c1.2)\n"
   ]
  },
  {
   "cell_type": "code",
   "execution_count": 43,
   "metadata": {},
   "outputs": [
    {
     "name": "stdout",
     "output_type": "stream",
     "text": [
      " chr [1:3] \" Sort by   Top Filter by  Filter by   All reviewers Filter by   All stars Filter by   All formats Keyword Keywo\"| __truncated__ ...\n"
     ]
    }
   ],
   "source": [
    "c1.3=gsub(pattern=\"\\\\W\", replace=\" \" , c1.2)\n",
    "str(c1.3)\n"
   ]
  },
  {
   "cell_type": "code",
   "execution_count": 44,
   "metadata": {},
   "outputs": [
    {
     "name": "stdout",
     "output_type": "stream",
     "text": [
      " chr [1:3] \" Sort by   Top Filter by  Filter by   All reviewers Filter by   All stars Filter by   All formats Keyword Keywo\"| __truncated__ ...\n"
     ]
    }
   ],
   "source": [
    "c1.4=gsub(pattern=\"\\\\d\", replace=\" \" , c1.3)\n",
    "str(c1.4)\n"
   ]
  },
  {
   "cell_type": "code",
   "execution_count": 45,
   "metadata": {},
   "outputs": [
    {
     "name": "stdout",
     "output_type": "stream",
     "text": [
      " chr [1:3] \" sort by   top filter by  filter by   all reviewers filter by   all stars filter by   all formats keyword keywo\"| __truncated__ ...\n"
     ]
    }
   ],
   "source": [
    "c1.5=tolower(c1.4)\n",
    "str(c1.5)\n"
   ]
  },
  {
   "cell_type": "code",
   "execution_count": 46,
   "metadata": {},
   "outputs": [
    {
     "name": "stdout",
     "output_type": "stream",
     "text": [
      " chr [1:3] \" sort    top filter   filter     reviewers filter     stars filter     formats keyword keyword search         s\"| __truncated__ ...\n"
     ]
    }
   ],
   "source": [
    "c1.6=removeWords(c1.5, stopwords())\n",
    "str(c1.6)\n"
   ]
  },
  {
   "cell_type": "code",
   "execution_count": 47,
   "metadata": {},
   "outputs": [
    {
     "name": "stdout",
     "output_type": "stream",
     "text": [
      " chr [1:3] \"              reviewers                        starsmust read    especially  fall       byamazon customeron   o\"| __truncated__ ...\n"
     ]
    }
   ],
   "source": [
    "c1.7=removeWords(c1.6, sw)\n",
    "str(c1.7)\n"
   ]
  },
  {
   "cell_type": "code",
   "execution_count": 48,
   "metadata": {},
   "outputs": [
    {
     "name": "stdout",
     "output_type": "stream",
     "text": [
      " chr [1:3] \"              reviewers                        starsmust read    especially  fall       byamazon customeron   o\"| __truncated__ ...\n"
     ]
    }
   ],
   "source": [
    "c1.8=gsub(pattern=\"\\\\b[A-z]\\\\b{1}\", replace=\" \" , c1.7)\n",
    "str(c1.8)\n"
   ]
  },
  {
   "cell_type": "code",
   "execution_count": 49,
   "metadata": {},
   "outputs": [
    {
     "name": "stdout",
     "output_type": "stream",
     "text": [
      " chr [1:3] \" reviewers starsmust read especially fall byamazon customeron october format paperback must read october honest\"| __truncated__ ...\n"
     ]
    }
   ],
   "source": [
    "c1.9=stripWhitespace(c1.8)\n",
    "str(c1.9)\n"
   ]
  },
  {
   "cell_type": "code",
   "execution_count": 50,
   "metadata": {},
   "outputs": [
    {
     "name": "stdout",
     "output_type": "stream",
     "text": [
      "List of 3\n",
      " $ : chr [1:8009] \"\" \"reviewers\" \"starsmust\" \"read\" ...\n",
      " $ : chr [1:7583] \"\" \"reviewers\" \"starspacking\" \"delivery\" ...\n",
      " $ : chr [1:13511] \"\" \"rated\" \"reviewers\" \"text\" ...\n"
     ]
    }
   ],
   "source": [
    "cbw=str_split(c1.9, pattern=\"\\\\s+\")\n",
    "str(cbw)\n"
   ]
  },
  {
   "cell_type": "code",
   "execution_count": 51,
   "metadata": {},
   "outputs": [],
   "source": [
    "#creating a positive score function and negative score function\n",
    "psF=function(x){\n",
    "sum(!is.na(match(x,posbw)))}\n",
    "nsF=function(x){\n",
    "sum(!is.na(match(x,negbw)))}\n"
   ]
  },
  {
   "cell_type": "code",
   "execution_count": 52,
   "metadata": {},
   "outputs": [
    {
     "name": "stdout",
     "output_type": "stream",
     "text": [
      "List of 3\n",
      " $ : int 744\n",
      " $ : int 726\n",
      " $ : int 1004\n"
     ]
    },
    {
     "data": {
      "text/html": [
       "<ol>\n",
       "\t<li>744</li>\n",
       "\t<li>726</li>\n",
       "\t<li>1004</li>\n",
       "</ol>\n"
      ],
      "text/latex": [
       "\\begin{enumerate}\n",
       "\\item 744\n",
       "\\item 726\n",
       "\\item 1004\n",
       "\\end{enumerate}\n"
      ],
      "text/markdown": [
       "1. 744\n",
       "2. 726\n",
       "3. 1004\n",
       "\n",
       "\n"
      ],
      "text/plain": [
       "[[1]]\n",
       "[1] 744\n",
       "\n",
       "[[2]]\n",
       "[1] 726\n",
       "\n",
       "[[3]]\n",
       "[1] 1004\n"
      ]
     },
     "metadata": {},
     "output_type": "display_data"
    }
   ],
   "source": [
    "ps=lapply(cbw, psF)\n",
    "str(ps)\n",
    "head(ps)\n"
   ]
  },
  {
   "cell_type": "code",
   "execution_count": 53,
   "metadata": {},
   "outputs": [
    {
     "name": "stdout",
     "output_type": "stream",
     "text": [
      "List of 3\n",
      " $ : int 463\n",
      " $ : int 421\n",
      " $ : int 995\n"
     ]
    }
   ],
   "source": [
    "ns=lapply(cbw, nsF)\n",
    "str(ns)\n"
   ]
  },
  {
   "cell_type": "code",
   "execution_count": 54,
   "metadata": {},
   "outputs": [],
   "source": [
    "#creating a score function\n",
    "scF=function(x){\n",
    "sum(!is.na(match(x,posbw)))-sum(!is.na(match(x,negbw)))}\n"
   ]
  },
  {
   "cell_type": "code",
   "execution_count": 55,
   "metadata": {},
   "outputs": [
    {
     "data": {
      "text/html": [
       "<ol>\n",
       "\t<li>281</li>\n",
       "\t<li>305</li>\n",
       "\t<li>9</li>\n",
       "</ol>\n"
      ],
      "text/latex": [
       "\\begin{enumerate}\n",
       "\\item 281\n",
       "\\item 305\n",
       "\\item 9\n",
       "\\end{enumerate}\n"
      ],
      "text/markdown": [
       "1. 281\n",
       "2. 305\n",
       "3. 9\n",
       "\n",
       "\n"
      ],
      "text/plain": [
       "[[1]]\n",
       "[1] 281\n",
       "\n",
       "[[2]]\n",
       "[1] 305\n",
       "\n",
       "[[3]]\n",
       "[1] 9\n"
      ]
     },
     "metadata": {},
     "output_type": "display_data"
    }
   ],
   "source": [
    "sc=lapply(cbw, scF)\n",
    "sc\n"
   ]
  },
  {
   "cell_type": "code",
   "execution_count": 56,
   "metadata": {},
   "outputs": [],
   "source": [
    "nscF=function(x){\n",
    "ps=sum(!is.na(match(x,posbw)))\n",
    "ns=sum(!is.na(match(x,negbw)))\n",
    "l=length(x)\n",
    "nsc=(ps-ns)/l}\n"
   ]
  },
  {
   "cell_type": "code",
   "execution_count": 57,
   "metadata": {
    "scrolled": true
   },
   "outputs": [
    {
     "data": {
      "text/html": [
       "<ol>\n",
       "\t<li>0.0350855287801224</li>\n",
       "\t<li>0.0402215481999209</li>\n",
       "\t<li>0.000666123899045222</li>\n",
       "</ol>\n"
      ],
      "text/latex": [
       "\\begin{enumerate}\n",
       "\\item 0.0350855287801224\n",
       "\\item 0.0402215481999209\n",
       "\\item 0.000666123899045222\n",
       "\\end{enumerate}\n"
      ],
      "text/markdown": [
       "1. 0.0350855287801224\n",
       "2. 0.0402215481999209\n",
       "3. 0.000666123899045222\n",
       "\n",
       "\n"
      ],
      "text/plain": [
       "[[1]]\n",
       "[1] 0.03508553\n",
       "\n",
       "[[2]]\n",
       "[1] 0.04022155\n",
       "\n",
       "[[3]]\n",
       "[1] 0.0006661239\n"
      ]
     },
     "metadata": {},
     "output_type": "display_data"
    }
   ],
   "source": [
    "nsc=lapply(cbw, nscF)\n",
    "nsc\n"
   ]
  },
  {
   "cell_type": "markdown",
   "metadata": {},
   "source": [
    "### Thus the books Gone Girl and Girl on the Train recieved similar appreciation. However Into the Water was apparently not liked by the readers."
   ]
  },
  {
   "cell_type": "code",
   "execution_count": null,
   "metadata": {},
   "outputs": [],
   "source": []
  }
 ],
 "metadata": {
  "kernelspec": {
   "display_name": "R",
   "language": "R",
   "name": "ir"
  },
  "language_info": {
   "codemirror_mode": "r",
   "file_extension": ".r",
   "mimetype": "text/x-r-source",
   "name": "R",
   "pygments_lexer": "r",
   "version": "3.4.3"
  }
 },
 "nbformat": 4,
 "nbformat_minor": 2
}
